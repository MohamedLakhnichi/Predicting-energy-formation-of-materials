{
 "cells": [
  {
   "cell_type": "code",
   "execution_count": 1,
   "id": "dc0f3876",
   "metadata": {},
   "outputs": [],
   "source": [
    "import json\n",
    "\n",
    "import matplotlib.pyplot as plt\n",
    "import numpy as np\n",
    "import pandas as pd\n",
    "from ase import Atoms\n",
    "from dscribe.descriptors import SOAP, CoulombMatrix\n",
    "from matminer.data_retrieval.retrieve_MP import MPDataRetrieval\n",
    "from pymatgen.ext.matproj import MPRester\n",
    "from pymatgen.io.cif import CifParser\n",
    "from tqdm import tqdm"
   ]
  },
  {
   "cell_type": "markdown",
   "id": "43c176a7",
   "metadata": {},
   "source": [
    "# Extract coords:"
   ]
  },
  {
   "cell_type": "code",
   "execution_count": 2,
   "id": "7c6406b1",
   "metadata": {
    "scrolled": true
   },
   "outputs": [
    {
     "name": "stderr",
     "output_type": "stream",
     "text": [
      "100%|███████████████████████████████████████████████████████████████████████████| 47932/47932 [00:55<00:00, 857.98it/s]\n"
     ]
    }
   ],
   "source": [
    "mpdr = MPDataRetrieval(api_key=\"3g9wMps4VR5Hy6Pm\")\n",
    "dfpg = mpdr.get_dataframe(\n",
    "    criteria={\n",
    "        \"elements\": {\n",
    "            \"$nin\": [\n",
    "                \"Nb\",\n",
    "                \"Mo\",\n",
    "                \"Tc\",\n",
    "                \"Ru\",\n",
    "                \"Rh\",\n",
    "                \"Pd\",\n",
    "                \"Ag\",\n",
    "                \"Cd\",\n",
    "                \"In\",\n",
    "                \"Sn\",\n",
    "                \"Sb\",\n",
    "                \"Te\",\n",
    "                \"I\",\n",
    "                \"Xe\",\n",
    "                \"Cs\",\n",
    "                \"Ba\",\n",
    "                \"La\",\n",
    "                \"Ce\",\n",
    "                \"Pr\",\n",
    "                \"Nd\",\n",
    "                \"Pm\",\n",
    "                \"Sm\",\n",
    "                \"Eu\",\n",
    "                \"Gd\",\n",
    "                \"Tb\",\n",
    "                \"Dy\",\n",
    "                \"Ho\",\n",
    "                \"Er\",\n",
    "                \"Tm\",\n",
    "                \"Yb\",\n",
    "                \"Lu\",\n",
    "                \"Hf\",\n",
    "                \"Ta\",\n",
    "                \"W\",\n",
    "                \"Re\",\n",
    "                \"Os\",\n",
    "                \"Ir\",\n",
    "                \"Pt\",\n",
    "                \"Au\",\n",
    "                \"Hg\",\n",
    "                \"Tl\",\n",
    "                \"Pb\",\n",
    "                \"Bi\",\n",
    "                \"Po\",\n",
    "                \"At\",\n",
    "                \"Rn\",\n",
    "                \"Fr\",\n",
    "                \"Ra\",\n",
    "                \"Ac\",\n",
    "                \"Th\",\n",
    "                \"Pa\",\n",
    "                \"U\",\n",
    "                \"Np\",\n",
    "                \"Pu\",\n",
    "                \"Am\",\n",
    "                \"Cm\",\n",
    "                \"Bk\",\n",
    "                \"Cf\",\n",
    "                \"Es\",\n",
    "                \"Fm\",\n",
    "                \"Md\",\n",
    "                \"No\",\n",
    "                \"Lr\",\n",
    "                \"Rf\",\n",
    "                \"Db\",\n",
    "                \"Sg\",\n",
    "                \"Bh\",\n",
    "                \"Hs\",\n",
    "                \"Mt\",\n",
    "                \"Ds\",\n",
    "                \"Rg\",\n",
    "                \"Cn\",\n",
    "                \"Uut\",\n",
    "                \"Fl\",\n",
    "                \"Uup\",\n",
    "                \"Lv\",\n",
    "                \"Uus\",\n",
    "                \"Uuo\",\n",
    "            ]\n",
    "        }\n",
    "    },\n",
    "    properties=[\"band_gap\", \"formation_energy_per_atom\"],\n",
    ")"
   ]
  },
  {
   "cell_type": "code",
   "execution_count": 3,
   "id": "5e43ebad",
   "metadata": {},
   "outputs": [
    {
     "data": {
      "text/plain": [
       "(47932, 2)"
      ]
     },
     "execution_count": 3,
     "metadata": {},
     "output_type": "execute_result"
    }
   ],
   "source": [
    "dfpg.shape"
   ]
  },
  {
   "cell_type": "code",
   "execution_count": 5,
   "id": "f424d4d7",
   "metadata": {},
   "outputs": [],
   "source": [
    "dfpg.to_csv(\"Materials_ene_gap.csv\")"
   ]
  },
  {
   "cell_type": "code",
   "execution_count": 11,
   "id": "4bfded44",
   "metadata": {},
   "outputs": [],
   "source": [
    "m = MPRester(api_key=\"3g9wMps4VR5Hy6Pm\")"
   ]
  },
  {
   "cell_type": "code",
   "execution_count": 2,
   "id": "49f2f6fc",
   "metadata": {},
   "outputs": [],
   "source": [
    "dictionnaireTabPeriodique = {\n",
    "    \"H\": 1,\n",
    "    \"He\": 2,\n",
    "    \"Li\": 3,\n",
    "    \"Be\": 4,\n",
    "    \"B\": 5,\n",
    "    \"C\": 6,\n",
    "    \"N\": 7,\n",
    "    \"O\": 8,\n",
    "    \"F\": 9,\n",
    "    \"Ne\": 10,\n",
    "    \"Na\": 11,\n",
    "    \"Mg\": 12,\n",
    "    \"Al\": 13,\n",
    "    \"Si\": 14,\n",
    "    \"P\": 15,\n",
    "    \"S\": 16,\n",
    "    \"Cl\": 17,\n",
    "    \"Ar\": 18,\n",
    "    \"K\": 19,\n",
    "    \"Ca\": 20,\n",
    "    \"Sc\": 21,\n",
    "    \"Ti\": 22,\n",
    "    \"V\": 23,\n",
    "    \"Cr\": 24,\n",
    "    \"Mn\": 25,\n",
    "    \"Fe\": 26,\n",
    "    \"Co\": 27,\n",
    "    \"Ni\": 28,\n",
    "    \"Cu\": 29,\n",
    "    \"Zn\": 30,\n",
    "    \"Ga\": 31,\n",
    "    \"Ge\": 32,\n",
    "    \"As\": 33,\n",
    "    \"Se\": 34,\n",
    "    \"Br\": 35,\n",
    "    \"Kr\": 36,\n",
    "    \"Rb\": 37,\n",
    "    \"Sr\": 38,\n",
    "    \"Y\": 39,\n",
    "    \"Zr\": 40,\n",
    "    \"Nb\": 41,\n",
    "    \"Mo\": 42,\n",
    "    \"Tc\": 43,\n",
    "    \"Ru\": 44,\n",
    "    \"Rh\": 45,\n",
    "    \"Pd\": 46,\n",
    "    \"Ag\": 47,\n",
    "    \"Cd\": 48,\n",
    "    \"In\": 49,\n",
    "    \"Sn\": 50,\n",
    "    \"Sb\": 51,\n",
    "    \"Te\": 52,\n",
    "    \"I\": 53,\n",
    "    \"Xe\": 54,\n",
    "    \"Cs\": 55,\n",
    "    \"Ba\": 56,\n",
    "    \"La\": 57,\n",
    "    \"Ce\": 58,\n",
    "    \"Pr\": 59,\n",
    "    \"Nd\": 60,\n",
    "    \"Pm\": 61,\n",
    "    \"Sm\": 62,\n",
    "    \"Eu\": 63,\n",
    "    \"Gd\": 64,\n",
    "    \"Tb\": 65,\n",
    "    \"Dy\": 66,\n",
    "    \"Ho\": 67,\n",
    "    \"Er\": 68,\n",
    "    \"Tm\": 69,\n",
    "    \"Yb\": 70,\n",
    "    \"Lu\": 71,\n",
    "    \"Hf\": 72,\n",
    "    \"Ta\": 73,\n",
    "    \"W\": 74,\n",
    "    \"Re\": 75,\n",
    "    \"Os\": 76,\n",
    "    \"Ir\": 77,\n",
    "    \"Pt\": 78,\n",
    "    \"Au\": 79,\n",
    "    \"Hg\": 80,\n",
    "    \"Tl\": 81,\n",
    "    \"Pb\": 82,\n",
    "    \"Bi\": 83,\n",
    "    \"Po\": 84,\n",
    "    \"At\": 85,\n",
    "    \"Rn\": 86,\n",
    "    \"Fr\": 87,\n",
    "    \"Ra\": 88,\n",
    "    \"Ac\": 89,\n",
    "    \"Th\": 90,\n",
    "    \"Pa\": 91,\n",
    "    \"U\": 92,\n",
    "    \"Np\": 93,\n",
    "    \"Pu\": 94,\n",
    "    \"Am\": 95,\n",
    "    \"Cm\": 96,\n",
    "    \"Bk\": 97,\n",
    "    \"Cf\": 98,\n",
    "    \"Es\": 99,\n",
    "    \"Fm\": 100,\n",
    "    \"Md\": 101,\n",
    "    \"No\": 102,\n",
    "    \"Lr\": 103,\n",
    "    \"Rf\": 104,\n",
    "    \"Db\": 105,\n",
    "    \"Sg\": 106,\n",
    "    \"Bh\": 107,\n",
    "    \"Hs\": 108,\n",
    "    \"Mt\": 109,\n",
    "    \"Ds\": 110,\n",
    "    \"Rg\": 111,\n",
    "    \"Cn\": 112,\n",
    "    \"Uut\": 113,\n",
    "    \"Fl\": 114,\n",
    "    \"Uup\": 115,\n",
    "    \"Lv\": 116,\n",
    "    \"Uus\": 117,\n",
    "    \"Uuo\": 118,\n",
    "}"
   ]
  },
  {
   "cell_type": "code",
   "execution_count": 6,
   "id": "4010b34f",
   "metadata": {},
   "outputs": [],
   "source": [
    "def CIF2Atom(cif):\n",
    "    \"\"\"\n",
    "    Generates an atom object using the cif file downloaded from MaterialProject\n",
    "    \"\"\"\n",
    "    blurp = CifParser.from_string(cif)\n",
    "    blurpDict = blurp.as_dict()\n",
    "    blurpDict = blurpDict.popitem()[1]\n",
    "    # Cell\n",
    "    in_cell = [\n",
    "        float(blurpDict[\"_cell_length_a\"]),\n",
    "        float(blurpDict[\"_cell_length_b\"]),\n",
    "        float(blurpDict[\"_cell_length_c\"]),\n",
    "        float(blurpDict[\"_cell_angle_alpha\"]),\n",
    "        float(blurpDict[\"_cell_angle_beta\"]),\n",
    "        float(blurpDict[\"_cell_angle_gamma\"]),\n",
    "    ]\n",
    "\n",
    "    # Numbers\n",
    "    in_numbers = [\n",
    "        dictionnaireTabPeriodique[i] for i in blurpDict[\"_atom_site_type_symbol\"]\n",
    "    ]\n",
    "\n",
    "    # Positions\n",
    "    tabX = np.array(blurpDict[\"_atom_site_fract_x\"]).astype(float)\n",
    "    tabY = np.array(blurpDict[\"_atom_site_fract_y\"]).astype(float)\n",
    "    tabZ = np.array(blurpDict[\"_atom_site_fract_z\"]).astype(float)\n",
    "    tabX = tabX.reshape((1, tabX.shape[0]))\n",
    "    tabY = tabY.reshape((1, tabY.shape[0]))\n",
    "    tabZ = tabZ.reshape((1, tabZ.shape[0]))\n",
    "    in_positions = np.concatenate((tabX, tabY, tabZ), axis=0).transpose()\n",
    "    return Atoms(\n",
    "        cell=in_cell,\n",
    "        numbers=in_numbers,\n",
    "        scaled_positions=in_positions,\n",
    "        pbc=[True, True, True],\n",
    "    )"
   ]
  },
  {
   "cell_type": "code",
   "execution_count": 7,
   "id": "9cd0340f",
   "metadata": {
    "collapsed": true,
    "jupyter": {
     "outputs_hidden": true
    },
    "scrolled": true,
    "tags": []
   },
   "outputs": [
    {
     "name": "stderr",
     "output_type": "stream",
     "text": [
      " 79%|█████████████████████████████████████████████████████████               | 38024/47932 [6:25:54<5:08:59,  1.87s/it]"
     ]
    },
    {
     "name": "stdout",
     "output_type": "stream",
     "text": [
      "mp-1176857\n"
     ]
    },
    {
     "name": "stderr",
     "output_type": "stream",
     "text": [
      " 84%|████████████████████████████████████████████████████████████▊           | 40494/47932 [6:59:47<6:32:26,  3.17s/it]"
     ]
    },
    {
     "name": "stdout",
     "output_type": "stream",
     "text": [
      "mp-867596\n",
      "mp-867623\n",
      "mp-867645\n"
     ]
    },
    {
     "name": "stderr",
     "output_type": "stream",
     "text": [
      " 84%|████████████████████████████████████████████████████████████▊           | 40498/47932 [6:59:47<2:13:16,  1.08s/it]"
     ]
    },
    {
     "name": "stdout",
     "output_type": "stream",
     "text": [
      "mp-867763\n",
      "mp-867864\n",
      "mp-867956\n"
     ]
    },
    {
     "name": "stderr",
     "output_type": "stream",
     "text": [
      " 84%|████████████████████████████████████████████████████████████▊           | 40500/47932 [6:59:47<1:27:48,  1.41it/s]"
     ]
    },
    {
     "name": "stdout",
     "output_type": "stream",
     "text": [
      "mp-971794\n",
      "mp-973364\n",
      "mp-1009127\n",
      "mp-1009129\n"
     ]
    },
    {
     "name": "stderr",
     "output_type": "stream",
     "text": [
      " 85%|██████████████████████████████████████████████████████████████▌           | 40504/47932 [6:59:47<42:25,  2.92it/s]"
     ]
    },
    {
     "name": "stdout",
     "output_type": "stream",
     "text": [
      "mp-1018140\n",
      "mp-1025126\n",
      "mp-1063661\n",
      "mp-1065577\n"
     ]
    },
    {
     "name": "stderr",
     "output_type": "stream",
     "text": [
      " 85%|██████████████████████████████████████████████████████████████▌           | 40508/47932 [6:59:48<23:21,  5.30it/s]"
     ]
    },
    {
     "name": "stdout",
     "output_type": "stream",
     "text": [
      "mp-1072984\n",
      "mp-1072994\n",
      "mp-1072996\n",
      "mp-1073003\n",
      "mp-1073012\n"
     ]
    },
    {
     "name": "stderr",
     "output_type": "stream",
     "text": [
      " 85%|██████████████████████████████████████████████████████████████▌           | 40514/47932 [6:59:48<12:01, 10.28it/s]"
     ]
    },
    {
     "name": "stdout",
     "output_type": "stream",
     "text": [
      "mp-1073015\n",
      "mp-1073016\n",
      "mp-1073021\n",
      "mp-1073033\n",
      "mp-1073037\n",
      "mp-1073045\n",
      "mp-1073065\n"
     ]
    },
    {
     "name": "stderr",
     "output_type": "stream",
     "text": [
      " 85%|██████████████████████████████████████████████████████████████▌           | 40522/47932 [6:59:48<06:36, 18.67it/s]"
     ]
    },
    {
     "name": "stdout",
     "output_type": "stream",
     "text": [
      "mp-1073075\n",
      "mp-1073089\n",
      "mp-1073114\n",
      "mp-1073146\n",
      "mp-1073154\n",
      "mp-1073157\n",
      "mp-1073164\n",
      "mp-1073166\n"
     ]
    },
    {
     "name": "stderr",
     "output_type": "stream",
     "text": [
      " 85%|██████████████████████████████████████████████████████████████▌           | 40530/47932 [6:59:48<04:52, 25.31it/s]"
     ]
    },
    {
     "name": "stdout",
     "output_type": "stream",
     "text": [
      "mp-1073199\n",
      "mp-1073201\n",
      "mp-1073210\n",
      "mp-1073254\n",
      "mp-1073256\n",
      "mp-1073274\n",
      "mp-1073302\n",
      "mp-1073304\n",
      "mp-1073308\n"
     ]
    },
    {
     "name": "stderr",
     "output_type": "stream",
     "text": [
      " 85%|██████████████████████████████████████████████████████████████▌           | 40540/47932 [6:59:49<03:47, 32.43it/s]"
     ]
    },
    {
     "name": "stdout",
     "output_type": "stream",
     "text": [
      "mp-1073316\n",
      "mp-1073318\n",
      "mp-1073326\n",
      "mp-1073330\n",
      "mp-1073358\n",
      "mp-1073362\n",
      "mp-1073371\n",
      "mp-1073396\n"
     ]
    },
    {
     "name": "stderr",
     "output_type": "stream",
     "text": [
      " 85%|██████████████████████████████████████████████████████████████▌           | 40548/47932 [6:59:49<03:38, 33.78it/s]"
     ]
    },
    {
     "name": "stdout",
     "output_type": "stream",
     "text": [
      "mp-1073409\n",
      "mp-1073416\n",
      "mp-1073428\n",
      "mp-1073451\n",
      "mp-1073454\n",
      "mp-1073456\n",
      "mp-1073459\n",
      "mp-1073465\n"
     ]
    },
    {
     "name": "stderr",
     "output_type": "stream",
     "text": [
      " 85%|██████████████████████████████████████████████████████████████▌           | 40557/47932 [6:59:49<03:17, 37.29it/s]"
     ]
    },
    {
     "name": "stdout",
     "output_type": "stream",
     "text": [
      "mp-1073477\n",
      "mp-1073481\n",
      "mp-1073493\n",
      "mp-1073495\n",
      "mp-1073501\n",
      "mp-1073522\n",
      "mp-1073529\n",
      "mp-1073530\n",
      "mp-1073532\n"
     ]
    },
    {
     "name": "stderr",
     "output_type": "stream",
     "text": [
      " 85%|██████████████████████████████████████████████████████████████▋           | 40567/47932 [6:59:49<02:58, 41.31it/s]"
     ]
    },
    {
     "name": "stdout",
     "output_type": "stream",
     "text": [
      "mp-1073557\n",
      "mp-1073562\n",
      "mp-1073568\n",
      "mp-1073586\n",
      "mp-1073587\n",
      "mp-1073590\n",
      "mp-1073593\n",
      "mp-1073594\n",
      "mp-1073599\n"
     ]
    },
    {
     "name": "stderr",
     "output_type": "stream",
     "text": [
      " 85%|██████████████████████████████████████████████████████████████▋           | 40577/47932 [6:59:50<02:56, 41.72it/s]"
     ]
    },
    {
     "name": "stdout",
     "output_type": "stream",
     "text": [
      "mp-1073604\n",
      "mp-1073613\n",
      "mp-1073623\n",
      "mp-1073638\n",
      "mp-1073644\n",
      "mp-1073655\n",
      "mp-1073663\n",
      "mp-1073672\n",
      "mp-1073678\n",
      "mp-1073686\n"
     ]
    },
    {
     "name": "stderr",
     "output_type": "stream",
     "text": [
      " 85%|██████████████████████████████████████████████████████████████▋           | 40587/47932 [6:59:50<02:52, 42.53it/s]"
     ]
    },
    {
     "name": "stdout",
     "output_type": "stream",
     "text": [
      "mp-1073702\n",
      "mp-1073705\n",
      "mp-1073728\n",
      "mp-1073730\n",
      "mp-1073733\n",
      "mp-1073734\n",
      "mp-1073735\n",
      "mp-1073780\n",
      "mp-1073789\n"
     ]
    },
    {
     "name": "stderr",
     "output_type": "stream",
     "text": [
      " 85%|██████████████████████████████████████████████████████████████▋           | 40597/47932 [6:59:50<02:51, 42.83it/s]"
     ]
    },
    {
     "name": "stdout",
     "output_type": "stream",
     "text": [
      "mp-1073795\n",
      "mp-1073809\n",
      "mp-1073812\n",
      "mp-1073820\n",
      "mp-1073851\n",
      "mp-1073852\n",
      "mp-1073857\n",
      "mp-1073862\n",
      "mp-1073864\n"
     ]
    },
    {
     "name": "stderr",
     "output_type": "stream",
     "text": [
      " 85%|██████████████████████████████████████████████████████████████▋           | 40602/47932 [6:59:50<02:51, 42.72it/s]"
     ]
    },
    {
     "name": "stdout",
     "output_type": "stream",
     "text": [
      "mp-1073876\n",
      "mp-1073877\n",
      "mp-1073903\n",
      "mp-1073909\n",
      "mp-1073910\n",
      "mp-1073911\n",
      "mp-1073917\n",
      "mp-1073921\n",
      "mp-1073927\n"
     ]
    },
    {
     "name": "stderr",
     "output_type": "stream",
     "text": [
      " 85%|██████████████████████████████████████████████████████████████▋           | 40612/47932 [6:59:50<02:55, 41.68it/s]"
     ]
    },
    {
     "name": "stdout",
     "output_type": "stream",
     "text": [
      "mp-1073934\n",
      "mp-1073958\n",
      "mp-1073962\n",
      "mp-1074011\n",
      "mp-1074028\n",
      "mp-1074050\n",
      "mp-1074061\n",
      "mp-1074063\n",
      "mp-1074093\n"
     ]
    },
    {
     "name": "stderr",
     "output_type": "stream",
     "text": [
      " 85%|██████████████████████████████████████████████████████████████▋           | 40622/47932 [6:59:51<02:51, 42.54it/s]"
     ]
    },
    {
     "name": "stdout",
     "output_type": "stream",
     "text": [
      "mp-1074094\n",
      "mp-1074095\n",
      "mp-1074106\n",
      "mp-1074108\n",
      "mp-1074123\n",
      "mp-1074131\n",
      "mp-1074141\n",
      "mp-1074143\n",
      "mp-1074145\n"
     ]
    },
    {
     "name": "stderr",
     "output_type": "stream",
     "text": [
      " 85%|██████████████████████████████████████████████████████████████▋           | 40627/47932 [6:59:51<02:54, 41.86it/s]"
     ]
    },
    {
     "name": "stdout",
     "output_type": "stream",
     "text": [
      "mp-1074174\n",
      "mp-1074181\n",
      "mp-1074192\n",
      "mp-1074194\n",
      "mp-1074199\n",
      "mp-1074201\n",
      "mp-1074203\n",
      "mp-1074207\n"
     ]
    },
    {
     "name": "stderr",
     "output_type": "stream",
     "text": [
      " 85%|██████████████████████████████████████████████████████████████▋           | 40637/47932 [6:59:51<03:07, 38.92it/s]"
     ]
    },
    {
     "name": "stdout",
     "output_type": "stream",
     "text": [
      "mp-1074213\n",
      "mp-1074228\n",
      "mp-1074233\n",
      "mp-1074259\n",
      "mp-1074264\n",
      "mp-1074265\n",
      "mp-1074278\n",
      "mp-1074283\n"
     ]
    },
    {
     "name": "stderr",
     "output_type": "stream",
     "text": [
      " 85%|██████████████████████████████████████████████████████████████▊           | 40647/47932 [6:59:51<02:58, 40.85it/s]"
     ]
    },
    {
     "name": "stdout",
     "output_type": "stream",
     "text": [
      "mp-1074287\n",
      "mp-1074288\n",
      "mp-1074307\n",
      "mp-1074333\n",
      "mp-1074345\n",
      "mp-1074346\n",
      "mp-1074347\n",
      "mp-1074350\n",
      "mp-1074375\n"
     ]
    },
    {
     "name": "stderr",
     "output_type": "stream",
     "text": [
      " 85%|██████████████████████████████████████████████████████████████▊           | 40657/47932 [6:59:51<02:53, 42.01it/s]"
     ]
    },
    {
     "name": "stdout",
     "output_type": "stream",
     "text": [
      "mp-1074380\n",
      "mp-1074382\n",
      "mp-1074404\n",
      "mp-1074405\n",
      "mp-1074417\n",
      "mp-1074455\n",
      "mp-1074465\n",
      "mp-1074475\n",
      "mp-1074483\n",
      "mp-1074526\n"
     ]
    },
    {
     "name": "stderr",
     "output_type": "stream",
     "text": [
      " 85%|██████████████████████████████████████████████████████████████▊           | 40667/47932 [6:59:52<02:53, 41.93it/s]"
     ]
    },
    {
     "name": "stdout",
     "output_type": "stream",
     "text": [
      "mp-1074532\n",
      "mp-1074538\n",
      "mp-1074542\n",
      "mp-1074545\n",
      "mp-1074573\n",
      "mp-1074587\n",
      "mp-1074616\n",
      "mp-1074619\n",
      "mp-1074639\n"
     ]
    },
    {
     "name": "stderr",
     "output_type": "stream",
     "text": [
      " 85%|██████████████████████████████████████████████████████████████▊           | 40672/47932 [6:59:52<02:55, 41.47it/s]"
     ]
    },
    {
     "name": "stdout",
     "output_type": "stream",
     "text": [
      "mp-1074641\n",
      "mp-1074652\n",
      "mp-1074665\n",
      "mp-1074672\n",
      "mp-1074685\n",
      "mp-1074714\n",
      "mp-1074729\n",
      "mp-1074730\n",
      "mp-1074738\n"
     ]
    },
    {
     "name": "stderr",
     "output_type": "stream",
     "text": [
      " 85%|██████████████████████████████████████████████████████████████▊           | 40677/47932 [6:59:52<02:53, 41.88it/s]"
     ]
    },
    {
     "name": "stdout",
     "output_type": "stream",
     "text": [
      "mp-1074751\n",
      "mp-1074772\n",
      "mp-1074792\n"
     ]
    },
    {
     "name": "stderr",
     "output_type": "stream",
     "text": [
      "100%|██████████████████████████████████████████████████████████████████████████| 47932/47932 [8:18:11<00:00,  1.60it/s]\n"
     ]
    }
   ],
   "source": [
    "atoms = []\n",
    "for ind in tqdm(dfpg.index):\n",
    "    try:\n",
    "        # On accède au cif\n",
    "        data = m.query(criteria={\"task_id\": ind}, properties=[\"cif\"])[0]\n",
    "        cif = data[\"cif\"]\n",
    "        # On transforme les cif au objets atom\n",
    "        atoms.append(CIF2Atom(cif))\n",
    "    except:\n",
    "        # En cas de problème, on enlève ce cif de la base de donnée\n",
    "        print(ind)\n",
    "        dfpg = dfpg.drop(ind)"
   ]
  },
  {
   "cell_type": "code",
   "execution_count": 8,
   "id": "404f07a8",
   "metadata": {},
   "outputs": [
    {
     "data": {
      "text/plain": [
       "47743"
      ]
     },
     "execution_count": 8,
     "metadata": {},
     "output_type": "execute_result"
    }
   ],
   "source": [
    "len(atoms)"
   ]
  },
  {
   "cell_type": "markdown",
   "id": "b1b7f13e",
   "metadata": {},
   "source": [
    "## Soap prediction:"
   ]
  },
  {
   "cell_type": "code",
   "execution_count": 4,
   "id": "f75f2473",
   "metadata": {},
   "outputs": [],
   "source": [
    "# importer la liste des atomes si on a pas la base de données\n",
    "# atoms = np.load('atoms.npy', allow_pickle=True)"
   ]
  },
  {
   "cell_type": "code",
   "execution_count": 5,
   "id": "84c783ff",
   "metadata": {},
   "outputs": [
    {
     "data": {
      "text/plain": [
       "47743"
      ]
     },
     "execution_count": 5,
     "metadata": {},
     "output_type": "execute_result"
    }
   ],
   "source": [
    "len(atoms)"
   ]
  },
  {
   "cell_type": "code",
   "execution_count": 4,
   "id": "2daf73b8",
   "metadata": {},
   "outputs": [],
   "source": [
    "Zmax = 40\n",
    "rcut = 6.0\n",
    "nmax = 5\n",
    "lmax = 5\n",
    "\n",
    "\n",
    "periodic_soap = SOAP(\n",
    "    species=[i for i in range(1, Zmax + 1)],\n",
    "    rcut=rcut,\n",
    "    nmax=5,\n",
    "    lmax=5,\n",
    "    periodic=True,\n",
    "    sparse=False,\n",
    ")"
   ]
  },
  {
   "cell_type": "code",
   "execution_count": 5,
   "id": "7bfcee76",
   "metadata": {},
   "outputs": [],
   "source": [
    "def get_soaps(atoms, soap_model):\n",
    "    soaps = []\n",
    "    for at in atoms:\n",
    "        soap_crys = np.array(soap_model.create(at))\n",
    "        soap_crys = np.mean(soap_crys, axis=0)\n",
    "        soaps.append(soap_crys)\n",
    "    return soaps"
   ]
  },
  {
   "cell_type": "code",
   "execution_count": 9,
   "id": "07717418",
   "metadata": {},
   "outputs": [
    {
     "data": {
      "text/plain": [
       "Atoms(symbols='Li10BrN3', pbc=True, cell=[[7.4411384, 0.0, 0.0], [-3.720569597028862, 6.4442146582511555, 0.0], [0.0, 0.0, 3.878101]])"
      ]
     },
     "execution_count": 9,
     "metadata": {},
     "output_type": "execute_result"
    }
   ],
   "source": [
    "atoms[7800]"
   ]
  },
  {
   "cell_type": "code",
   "execution_count": 12,
   "id": "dba5178b",
   "metadata": {
    "scrolled": true
   },
   "outputs": [
    {
     "name": "stdout",
     "output_type": "stream",
     "text": [
      "# generated using pymatgen\n",
      "data_Li10BrN3\n",
      "_symmetry_space_group_name_H-M   'P 1'\n",
      "_cell_length_a   7.44113840\n",
      "_cell_length_b   7.44113840\n",
      "_cell_length_c   3.87810100\n",
      "_cell_angle_alpha   90.00000000\n",
      "_cell_angle_beta   90.00000000\n",
      "_cell_angle_gamma   120.00000353\n",
      "_symmetry_Int_Tables_number   1\n",
      "_chemical_formula_structural   Li10BrN3\n",
      "_chemical_formula_sum   'Li10 Br1 N3'\n",
      "_cell_volume   185.96383589\n",
      "_cell_formula_units_Z   1\n",
      "loop_\n",
      " _symmetry_equiv_pos_site_id\n",
      " _symmetry_equiv_pos_as_xyz\n",
      "  1  'x, y, z'\n",
      "loop_\n",
      " _atom_site_type_symbol\n",
      " _atom_site_label\n",
      " _atom_site_symmetry_multiplicity\n",
      " _atom_site_fract_x\n",
      " _atom_site_fract_y\n",
      " _atom_site_fract_z\n",
      " _atom_site_occupancy\n",
      "  Li  Li0  1  0.77833200  0.55666400  0.00000000  1\n",
      "  Li  Li1  1  0.44333600  0.22166800  0.00000000  1\n",
      "  Li  Li2  1  0.77833200  0.22166800  0.00000000  1\n",
      "  Li  Li3  1  0.16717600  0.33435100  0.00000000  1\n",
      "  Li  Li4  1  0.49164900  0.50835100  0.50000000  1\n",
      "  Li  Li5  1  0.01670300  0.50835100  0.50000000  1\n",
      "  Li  Li6  1  0.49164900  0.98329700  0.50000000  1\n",
      "  Li  Li7  1  0.33333300  0.66666700  0.00000000  1\n",
      "  Li  Li8  1  0.16717600  0.83282400  0.00000000  1\n",
      "  Li  Li9  1  0.66564900  0.83282400  0.00000000  1\n",
      "  Br  Br10  1  0.00000000  0.00000000  0.50000000  1\n",
      "  N  N11  1  0.49137500  0.50862500  0.00000000  1\n",
      "  N  N12  1  0.49137500  0.98274900  0.00000000  1\n",
      "  N  N13  1  0.01725100  0.50862500  0.00000000  1\n",
      "\n"
     ]
    }
   ],
   "source": [
    "data = m.query(criteria={\"task_id\": dfpg.index[7800]}, properties=[\"cif\"])[0]\n",
    "cif = data[\"cif\"]\n",
    "print(cif)"
   ]
  },
  {
   "cell_type": "code",
   "execution_count": 9,
   "id": "45c14417",
   "metadata": {
    "scrolled": true
   },
   "outputs": [
    {
     "name": "stderr",
     "output_type": "stream",
     "text": [
      "100%|██████████████████████████████████████████████████████████████████████████████| 7743/7743 [08:59<00:00, 14.35it/s]\n"
     ]
    }
   ],
   "source": [
    "# Extraire le SOAP\n",
    "\n",
    "soaps = []\n",
    "for at in tqdm(atoms):\n",
    "    soap_crys = np.array(periodic_soap.create(at))\n",
    "    soap_crys = np.mean(soap_crys, axis=0)\n",
    "    soaps.append(soap_crys)"
   ]
  },
  {
   "cell_type": "code",
   "execution_count": 4,
   "id": "b855568c",
   "metadata": {},
   "outputs": [],
   "source": [
    "soaps = np.load(\"soaps.npy\")"
   ]
  },
  {
   "cell_type": "code",
   "execution_count": 5,
   "id": "1993c2c9",
   "metadata": {},
   "outputs": [],
   "source": [
    "X_soap_train = soaps\n",
    "Yen_soap_train = df.iloc[:20000, 2]"
   ]
  },
  {
   "cell_type": "markdown",
   "id": "d315c69b",
   "metadata": {},
   "source": [
    "### KNN avec soap:"
   ]
  },
  {
   "cell_type": "code",
   "execution_count": 21,
   "id": "c078aeb8",
   "metadata": {},
   "outputs": [],
   "source": [
    "from sklearn.kernel_ridge import KernelRidge"
   ]
  },
  {
   "cell_type": "code",
   "execution_count": 22,
   "id": "d3186e61",
   "metadata": {},
   "outputs": [
    {
     "data": {
      "text/plain": [
       "KernelRidge(alpha=0.1)"
      ]
     },
     "execution_count": 22,
     "metadata": {},
     "output_type": "execute_result"
    }
   ],
   "source": [
    "Kmodel_en = KernelRidge(alpha=0.1)\n",
    "Kmodel_en.fit(X_soap_train, Yen_soap_train)"
   ]
  },
  {
   "cell_type": "code",
   "execution_count": 8,
   "id": "6277ec28",
   "metadata": {},
   "outputs": [],
   "source": [
    "X_soap_test, Yen_soap_test = X_soap_train[200:300], Yen_soap_train[200:300]"
   ]
  },
  {
   "cell_type": "code",
   "execution_count": 24,
   "id": "a3f8cc35",
   "metadata": {
    "scrolled": true
   },
   "outputs": [
    {
     "name": "stdout",
     "output_type": "stream",
     "text": [
      "0.9660189233866064\n"
     ]
    },
    {
     "data": {
      "image/png": "[encoded data removed]",
      "text/plain": [
       "<Figure size 432x288 with 1 Axes>"
      ]
     },
     "metadata": {
      "needs_background": "light"
     },
     "output_type": "display_data"
    }
   ],
   "source": [
    "Yen_soap_predict = Kmodel_en.predict(X_soap_test)\n",
    "plt.scatter(Yen_soap_predict, Yen_soap_test)\n",
    "plt.plot([-5, 5], [-5, 5])\n",
    "plt.xlabel(\"predicted energy formation\")\n",
    "plt.ylabel(\"real energy formation\")\n",
    "plt.xlim([-5, 5])\n",
    "print(Kmodel_en.score(X_soap_test, Yen_soap_test))"
   ]
  },
  {
   "cell_type": "code",
   "execution_count": 26,
   "id": "5f3b4134",
   "metadata": {},
   "outputs": [
    {
     "name": "stdout",
     "output_type": "stream",
     "text": [
      "0.9787020679407162\n"
     ]
    },
    {
     "data": {
      "image/png": "[encoded data removed]",
      "text/plain": [
       "<Figure size 432x288 with 1 Axes>"
      ]
     },
     "metadata": {
      "needs_background": "light"
     },
     "output_type": "display_data"
    }
   ],
   "source": [
    "Yen_soap_predict = Kmodel_en.predict(X_soap_test)\n",
    "plt.scatter(Yen_soap_predict, Yen_soap_test)\n",
    "plt.plot([-5, 5], [-5, 5])\n",
    "plt.xlabel(\"predicted energy formation\")\n",
    "plt.ylabel(\"real energy formation\")\n",
    "plt.xlim([-5, 5])\n",
    "print(Kmodel_en.score(X_soap_test, Yen_soap_test))"
   ]
  },
  {
   "cell_type": "markdown",
   "id": "ac49d7d4",
   "metadata": {},
   "source": [
    "### MLP avec soap:"
   ]
  },
  {
   "cell_type": "code",
   "execution_count": 41,
   "id": "46608e31",
   "metadata": {
    "collapsed": true,
    "jupyter": {
     "outputs_hidden": true
    },
    "scrolled": true,
    "tags": []
   },
   "outputs": [
    {
     "name": "stdout",
     "output_type": "stream",
     "text": [
      "Iteration 1, loss = 16.42921589\n",
      "Iteration 2, loss = 0.93137460\n",
      "Iteration 3, loss = 0.23683949\n",
      "Iteration 4, loss = 0.12571710\n",
      "Iteration 5, loss = 0.07962856\n",
      "Iteration 6, loss = 0.06324236\n",
      "Iteration 7, loss = 0.05498389\n",
      "Iteration 8, loss = 0.05536145\n",
      "Iteration 9, loss = 0.04866803\n",
      "Iteration 10, loss = 0.06816094\n",
      "Iteration 11, loss = 0.09101354\n",
      "Iteration 12, loss = 0.07711089\n",
      "Iteration 13, loss = 0.04514089\n",
      "Iteration 14, loss = 0.03570417\n",
      "Iteration 15, loss = 0.03119045\n",
      "Iteration 16, loss = 0.03949656\n",
      "Iteration 17, loss = 0.04719369\n",
      "Iteration 18, loss = 0.13817567\n",
      "Iteration 19, loss = 0.10459490\n",
      "Iteration 20, loss = 0.08053177\n",
      "Iteration 21, loss = 0.05943683\n",
      "Iteration 22, loss = 0.06689448\n",
      "Iteration 23, loss = 0.09338501\n",
      "Iteration 24, loss = 0.17160259\n",
      "Iteration 25, loss = 0.15183261\n",
      "Iteration 26, loss = 0.05632625\n",
      "Training loss did not improve more than tol=0.000100 for 10 consecutive epochs. Stopping.\n"
     ]
    },
    {
     "data": {
      "text/plain": [
       "MLPRegressor(batch_size=1000, hidden_layer_sizes=(1048, 1048, 256, 128, 64),\n",
       "             learning_rate='adaptive', verbose=True)"
      ]
     },
     "execution_count": 41,
     "metadata": {},
     "output_type": "execute_result"
    }
   ],
   "source": [
    "from sklearn.neural_network import MLPRegressor\n",
    "\n",
    "MLPR = MLPRegressor(\n",
    "    hidden_layer_sizes=(1048, 1048, 256, 128, 64),\n",
    "    shuffle=True,\n",
    "    batch_size=1000,\n",
    "    verbose=True,\n",
    "    learning_rate=\"adaptive\",\n",
    ")\n",
    "MLPR.fit(X_soap_train, Yen_soap_train)"
   ]
  },
  {
   "cell_type": "code",
   "execution_count": 49,
   "id": "6d558ec1",
   "metadata": {},
   "outputs": [
    {
     "name": "stdout",
     "output_type": "stream",
     "text": [
      "0.41360677342184393\n"
     ]
    },
    {
     "data": {
      "image/png": "[encoded data removed]",
      "text/plain": [
       "<Figure size 432x288 with 1 Axes>"
      ]
     },
     "metadata": {
      "needs_background": "light"
     },
     "output_type": "display_data"
    }
   ],
   "source": [
    "MYen_soap_predict = MLPR.predict(X_soap_test)\n",
    "plt.scatter(MYen_soap_predict, Yen_soap_test)\n",
    "plt.plot([-5, 5], [-5, 5])\n",
    "plt.xlabel(\"predicted energy formation\")\n",
    "plt.ylabel(\"real energy formation\")\n",
    "plt.xlim([-5, 5])\n",
    "print(MLPR.score(X_soap_test, Yen_soap_test))"
   ]
  },
  {
   "cell_type": "markdown",
   "id": "a37d6f35",
   "metadata": {},
   "source": [
    "### NN avec soap:"
   ]
  },
  {
   "cell_type": "code",
   "execution_count": 7,
   "id": "1375c474",
   "metadata": {
    "collapsed": true,
    "jupyter": {
     "outputs_hidden": true
    },
    "scrolled": true,
    "tags": []
   },
   "outputs": [
    {
     "name": "stdout",
     "output_type": "stream",
     "text": [
      "Model: \"sequential\"\n",
      "_________________________________________________________________\n",
      " Layer (type)                Output Shape              Param #   \n",
      "=================================================================\n",
      " dense (Dense)               (None, 1048)              126389848 \n",
      "                                                                 \n",
      " dense_1 (Dense)             (None, 1048)              1099352   \n",
      "                                                                 \n",
      " dense_2 (Dense)             (None, 256)               268544    \n",
      "                                                                 \n",
      " dense_3 (Dense)             (None, 128)               32896     \n",
      "                                                                 \n",
      " dense_4 (Dense)             (None, 64)                8256      \n",
      "                                                                 \n",
      " dense_5 (Dense)             (None, 1)                 65        \n",
      "                                                                 \n",
      "=================================================================\n",
      "Total params: 127,798,961\n",
      "Trainable params: 127,798,961\n",
      "Non-trainable params: 0\n",
      "_________________________________________________________________\n",
      "None\n",
      "Epoch 1/20\n",
      "63/63 [==============================] - 42s 567ms/step - loss: 2.2991\n",
      "Epoch 2/20\n",
      "63/63 [==============================] - 34s 542ms/step - loss: 0.6330\n",
      "Epoch 3/20\n",
      "63/63 [==============================] - 35s 562ms/step - loss: 0.4606\n",
      "Epoch 4/20\n",
      "63/63 [==============================] - 35s 550ms/step - loss: 0.3885\n",
      "Epoch 5/20\n",
      "63/63 [==============================] - 36s 566ms/step - loss: 0.3600\n",
      "Epoch 6/20\n",
      "63/63 [==============================] - 34s 548ms/step - loss: 0.3340\n",
      "Epoch 7/20\n",
      "63/63 [==============================] - 35s 551ms/step - loss: 0.3152\n",
      "Epoch 8/20\n",
      "63/63 [==============================] - 38s 596ms/step - loss: 0.2781\n",
      "Epoch 9/20\n",
      "63/63 [==============================] - 34s 544ms/step - loss: 0.2938\n",
      "Epoch 10/20\n",
      "63/63 [==============================] - 40s 643ms/step - loss: 0.2605\n",
      "Epoch 11/20\n",
      "63/63 [==============================] - 38s 607ms/step - loss: 0.2703\n",
      "Epoch 12/20\n",
      "63/63 [==============================] - 36s 575ms/step - loss: 0.2488\n",
      "Epoch 13/20\n",
      "63/63 [==============================] - 34s 532ms/step - loss: 0.2526\n",
      "Epoch 14/20\n",
      "63/63 [==============================] - 34s 541ms/step - loss: 0.2572\n",
      "Epoch 15/20\n",
      "63/63 [==============================] - 34s 535ms/step - loss: 0.2079\n",
      "Epoch 16/20\n",
      "63/63 [==============================] - 34s 535ms/step - loss: 0.2225\n",
      "Epoch 17/20\n",
      "63/63 [==============================] - 33s 529ms/step - loss: 0.2073\n",
      "Epoch 18/20\n",
      "63/63 [==============================] - 36s 573ms/step - loss: 0.1770\n",
      "Epoch 19/20\n",
      "63/63 [==============================] - 41s 648ms/step - loss: 0.1890\n",
      "Epoch 20/20\n",
      "63/63 [==============================] - 47s 746ms/step - loss: 0.1760\n"
     ]
    }
   ],
   "source": [
    "import tensorflow as tf\n",
    "from tensorflow import keras\n",
    "from tensorflow.keras import layers\n",
    "\n",
    "model_5 = keras.Sequential(\n",
    "    [\n",
    "        layers.Input(X_soap_train.shape[1],),\n",
    "        layers.Dense(1048, activation=\"relu\"),\n",
    "        layers.Dense(1048, activation=\"relu\"),\n",
    "        layers.Dense(256, activation=\"relu\"),\n",
    "        layers.Dense(128, activation=\"relu\"),\n",
    "        layers.Dense(64, activation=\"relu\"),\n",
    "        layers.Dense(1),\n",
    "    ]\n",
    ")\n",
    "\n",
    "model_5.compile(loss=\"mean_absolute_error\", optimizer=tf.keras.optimizers.Adam(0.001))\n",
    "print(model.summary())\n",
    "\n",
    "\n",
    "history = model_5.fit(\n",
    "    np.array(X_soap_train[:2000]), np.array(Yen_soap_train[:2000]), verbose=1, epochs=20\n",
    ")"
   ]
  },
  {
   "cell_type": "code",
   "execution_count": 8,
   "id": "9a05bc1f",
   "metadata": {},
   "outputs": [],
   "source": [
    "loss = history.history[\"loss\"][:20]"
   ]
  },
  {
   "cell_type": "code",
   "execution_count": 9,
   "id": "7a70acea",
   "metadata": {
    "scrolled": true
   },
   "outputs": [
    {
     "name": "stdout",
     "output_type": "stream",
     "text": [
      "Epoch 1/20\n",
      "63/63 [==============================] - 40s 642ms/step - loss: 0.3838\n",
      "Epoch 2/20\n",
      "63/63 [==============================] - 33s 526ms/step - loss: 0.4063\n",
      "Epoch 3/20\n",
      "63/63 [==============================] - 36s 578ms/step - loss: 0.3678\n",
      "Epoch 4/20\n",
      "63/63 [==============================] - 35s 553ms/step - loss: 0.3403\n",
      "Epoch 5/20\n",
      "63/63 [==============================] - 36s 576ms/step - loss: 0.2453\n",
      "Epoch 6/20\n",
      "63/63 [==============================] - 39s 619ms/step - loss: 0.3012\n",
      "Epoch 7/20\n",
      "63/63 [==============================] - 38s 610ms/step - loss: 0.2471\n",
      "Epoch 8/20\n",
      "63/63 [==============================] - 37s 583ms/step - loss: 0.2506\n",
      "Epoch 9/20\n",
      "63/63 [==============================] - 44s 696ms/step - loss: 0.2326\n",
      "Epoch 10/20\n",
      "63/63 [==============================] - 36s 579ms/step - loss: 0.2592\n",
      "Epoch 11/20\n",
      "63/63 [==============================] - 38s 597ms/step - loss: 0.3050\n",
      "Epoch 12/20\n",
      "63/63 [==============================] - 33s 523ms/step - loss: 0.1741\n",
      "Epoch 13/20\n",
      "63/63 [==============================] - 35s 551ms/step - loss: 0.1879\n",
      "Epoch 14/20\n",
      "63/63 [==============================] - 32s 513ms/step - loss: 0.1627\n",
      "Epoch 15/20\n",
      "63/63 [==============================] - 37s 590ms/step - loss: 0.1525\n",
      "Epoch 16/20\n",
      "63/63 [==============================] - 34s 546ms/step - loss: 0.1428\n",
      "Epoch 17/20\n",
      "63/63 [==============================] - 33s 517ms/step - loss: 0.1510\n",
      "Epoch 18/20\n",
      "63/63 [==============================] - 34s 546ms/step - loss: 0.1383\n",
      "Epoch 19/20\n",
      "63/63 [==============================] - 34s 535ms/step - loss: 0.1490\n",
      "Epoch 20/20\n",
      "63/63 [==============================] - 35s 559ms/step - loss: 0.1665\n",
      "Epoch 1/20\n",
      "63/63 [==============================] - 35s 547ms/step - loss: 0.3859\n",
      "Epoch 2/20\n",
      "63/63 [==============================] - 43s 685ms/step - loss: 0.4520\n",
      "Epoch 3/20\n",
      "63/63 [==============================] - 36s 573ms/step - loss: 0.3021\n",
      "Epoch 4/20\n",
      "63/63 [==============================] - 34s 541ms/step - loss: 0.2656\n",
      "Epoch 5/20\n",
      "63/63 [==============================] - 34s 537ms/step - loss: 0.3138\n",
      "Epoch 6/20\n",
      "63/63 [==============================] - 34s 540ms/step - loss: 0.2408\n",
      "Epoch 7/20\n",
      "63/63 [==============================] - 38s 608ms/step - loss: 0.1938\n",
      "Epoch 8/20\n",
      "63/63 [==============================] - 38s 608ms/step - loss: 0.1904\n",
      "Epoch 9/20\n",
      "63/63 [==============================] - 37s 582ms/step - loss: 0.1701\n",
      "Epoch 10/20\n",
      "63/63 [==============================] - 36s 566ms/step - loss: 0.1656\n",
      "Epoch 11/20\n",
      "63/63 [==============================] - 34s 539ms/step - loss: 0.1670\n",
      "Epoch 12/20\n",
      "63/63 [==============================] - 36s 575ms/step - loss: 0.1654\n",
      "Epoch 13/20\n",
      "63/63 [==============================] - 34s 536ms/step - loss: 0.1504\n",
      "Epoch 14/20\n",
      "63/63 [==============================] - 34s 545ms/step - loss: 0.1506\n",
      "Epoch 15/20\n",
      "63/63 [==============================] - 37s 586ms/step - loss: 0.1301\n",
      "Epoch 16/20\n",
      "63/63 [==============================] - 36s 575ms/step - loss: 0.1416\n",
      "Epoch 17/20\n",
      "63/63 [==============================] - 36s 579ms/step - loss: 0.1292\n",
      "Epoch 18/20\n",
      "63/63 [==============================] - 36s 563ms/step - loss: 0.1308\n",
      "Epoch 19/20\n",
      "63/63 [==============================] - 35s 548ms/step - loss: 0.1268\n",
      "Epoch 20/20\n",
      "63/63 [==============================] - 36s 578ms/step - loss: 0.1374\n",
      "Epoch 1/20\n",
      "63/63 [==============================] - 37s 579ms/step - loss: 0.3074\n",
      "Epoch 2/20\n",
      "63/63 [==============================] - 36s 569ms/step - loss: 0.2459\n",
      "Epoch 3/20\n",
      "63/63 [==============================] - 34s 538ms/step - loss: 0.2766\n",
      "Epoch 4/20\n",
      "63/63 [==============================] - 49s 782ms/step - loss: 0.2543\n",
      "Epoch 5/20\n",
      "63/63 [==============================] - 59s 933ms/step - loss: 0.2083\n",
      "Epoch 6/20\n",
      "63/63 [==============================] - 52s 830ms/step - loss: 0.1777\n",
      "Epoch 7/20\n",
      "63/63 [==============================] - 36s 574ms/step - loss: 0.1921\n",
      "Epoch 8/20\n",
      "63/63 [==============================] - 35s 550ms/step - loss: 0.1673\n",
      "Epoch 9/20\n",
      "63/63 [==============================] - 34s 533ms/step - loss: 0.1620\n",
      "Epoch 10/20\n",
      "63/63 [==============================] - 35s 548ms/step - loss: 0.1600\n",
      "Epoch 11/20\n",
      "63/63 [==============================] - 37s 590ms/step - loss: 0.1403\n",
      "Epoch 12/20\n",
      "63/63 [==============================] - 35s 551ms/step - loss: 0.1506\n",
      "Epoch 13/20\n",
      "63/63 [==============================] - 36s 567ms/step - loss: 0.2117\n",
      "Epoch 14/20\n",
      "63/63 [==============================] - 35s 556ms/step - loss: 0.1373\n",
      "Epoch 15/20\n",
      "63/63 [==============================] - 33s 519ms/step - loss: 0.1215\n",
      "Epoch 16/20\n",
      "63/63 [==============================] - 34s 536ms/step - loss: 0.1323\n",
      "Epoch 17/20\n",
      "63/63 [==============================] - 33s 516ms/step - loss: 0.1253\n",
      "Epoch 18/20\n",
      "63/63 [==============================] - 40s 630ms/step - loss: 0.1241\n",
      "Epoch 19/20\n",
      "63/63 [==============================] - 36s 564ms/step - loss: 0.1140\n",
      "Epoch 20/20\n",
      "63/63 [==============================] - 35s 553ms/step - loss: 0.1117\n",
      "Epoch 1/20\n",
      "63/63 [==============================] - 38s 603ms/step - loss: 0.3450\n",
      "Epoch 2/20\n",
      "63/63 [==============================] - 37s 587ms/step - loss: 0.2950\n",
      "Epoch 3/20\n",
      "63/63 [==============================] - 36s 563ms/step - loss: 0.2806\n",
      "Epoch 4/20\n",
      "63/63 [==============================] - 38s 597ms/step - loss: 0.2712\n",
      "Epoch 5/20\n",
      "63/63 [==============================] - 39s 616ms/step - loss: 0.2485\n",
      "Epoch 6/20\n",
      "63/63 [==============================] - 36s 577ms/step - loss: 0.2325\n",
      "Epoch 7/20\n",
      "63/63 [==============================] - 36s 563ms/step - loss: 0.2097\n",
      "Epoch 8/20\n",
      "63/63 [==============================] - 34s 534ms/step - loss: 0.2028\n",
      "Epoch 9/20\n",
      "63/63 [==============================] - 35s 557ms/step - loss: 0.1959\n",
      "Epoch 10/20\n",
      "63/63 [==============================] - 40s 635ms/step - loss: 0.1819\n",
      "Epoch 11/20\n",
      "63/63 [==============================] - 38s 603ms/step - loss: 0.1718\n",
      "Epoch 12/20\n",
      "63/63 [==============================] - 35s 556ms/step - loss: 0.1813\n",
      "Epoch 13/20\n",
      "63/63 [==============================] - 41s 659ms/step - loss: 0.1673\n",
      "Epoch 14/20\n",
      "63/63 [==============================] - 46s 722ms/step - loss: 0.1694\n",
      "Epoch 15/20\n",
      "63/63 [==============================] - 36s 576ms/step - loss: 0.1741\n",
      "Epoch 16/20\n",
      "63/63 [==============================] - 36s 565ms/step - loss: 0.1594\n",
      "Epoch 17/20\n",
      "63/63 [==============================] - 36s 565ms/step - loss: 0.1626\n",
      "Epoch 18/20\n",
      "63/63 [==============================] - 35s 562ms/step - loss: 0.1521\n",
      "Epoch 19/20\n",
      "63/63 [==============================] - 42s 661ms/step - loss: 0.1564\n",
      "Epoch 20/20\n",
      "63/63 [==============================] - 38s 602ms/step - loss: 0.1514\n",
      "Epoch 1/20\n",
      "63/63 [==============================] - 35s 563ms/step - loss: 0.1491\n",
      "Epoch 2/20\n",
      "63/63 [==============================] - 36s 576ms/step - loss: 0.1154\n",
      "Epoch 3/20\n",
      "63/63 [==============================] - 35s 558ms/step - loss: 0.1297\n",
      "Epoch 4/20\n",
      "63/63 [==============================] - 37s 595ms/step - loss: 0.1063\n",
      "Epoch 5/20\n",
      "63/63 [==============================] - 37s 579ms/step - loss: 0.0908\n",
      "Epoch 6/20\n",
      "63/63 [==============================] - 39s 620ms/step - loss: 0.0889\n",
      "Epoch 7/20\n",
      "63/63 [==============================] - 39s 618ms/step - loss: 0.0834\n",
      "Epoch 8/20\n",
      "63/63 [==============================] - 38s 601ms/step - loss: 0.0842\n",
      "Epoch 9/20\n",
      "63/63 [==============================] - 34s 541ms/step - loss: 0.0824\n",
      "Epoch 10/20\n",
      "63/63 [==============================] - 37s 583ms/step - loss: 0.0776\n",
      "Epoch 11/20\n",
      "63/63 [==============================] - 36s 573ms/step - loss: 0.0787\n",
      "Epoch 12/20\n",
      "63/63 [==============================] - 35s 562ms/step - loss: 0.0739\n",
      "Epoch 13/20\n",
      "63/63 [==============================] - 36s 569ms/step - loss: 0.0692\n",
      "Epoch 14/20\n",
      "63/63 [==============================] - 37s 583ms/step - loss: 0.0684\n",
      "Epoch 15/20\n",
      "63/63 [==============================] - 37s 588ms/step - loss: 0.0659\n",
      "Epoch 16/20\n",
      "63/63 [==============================] - 38s 607ms/step - loss: 0.0728\n",
      "Epoch 17/20\n",
      "63/63 [==============================] - 36s 573ms/step - loss: 0.0691\n",
      "Epoch 18/20\n",
      "63/63 [==============================] - 36s 565ms/step - loss: 0.0760\n",
      "Epoch 19/20\n",
      "63/63 [==============================] - 36s 571ms/step - loss: 0.0693\n",
      "Epoch 20/20\n",
      "63/63 [==============================] - 40s 638ms/step - loss: 0.0644\n",
      "Epoch 1/20\n",
      "63/63 [==============================] - 47s 753ms/step - loss: 0.1991\n",
      "Epoch 2/20\n",
      "63/63 [==============================] - 37s 594ms/step - loss: 0.1749\n",
      "Epoch 3/20\n",
      "63/63 [==============================] - 35s 556ms/step - loss: 0.1576\n",
      "Epoch 4/20\n",
      "63/63 [==============================] - 35s 564ms/step - loss: 0.1350\n",
      "Epoch 5/20\n",
      "63/63 [==============================] - 38s 604ms/step - loss: 0.1335\n",
      "Epoch 6/20\n",
      "63/63 [==============================] - 37s 590ms/step - loss: 0.1099\n",
      "Epoch 7/20\n",
      "63/63 [==============================] - 37s 590ms/step - loss: 0.1159\n",
      "Epoch 8/20\n",
      "63/63 [==============================] - 39s 625ms/step - loss: 0.1120\n",
      "Epoch 9/20\n",
      "63/63 [==============================] - 40s 633ms/step - loss: 0.1065\n",
      "Epoch 10/20\n",
      "63/63 [==============================] - 38s 612ms/step - loss: 0.0986\n",
      "Epoch 11/20\n",
      "63/63 [==============================] - 44s 705ms/step - loss: 0.1009\n",
      "Epoch 12/20\n",
      "63/63 [==============================] - 41s 647ms/step - loss: 0.1100\n",
      "Epoch 13/20\n",
      "63/63 [==============================] - 36s 569ms/step - loss: 0.0946\n",
      "Epoch 14/20\n",
      "63/63 [==============================] - 33s 525ms/step - loss: 0.0974\n",
      "Epoch 15/20\n",
      "63/63 [==============================] - 32s 503ms/step - loss: 0.0914\n",
      "Epoch 16/20\n",
      "63/63 [==============================] - 32s 505ms/step - loss: 0.0803\n",
      "Epoch 17/20\n",
      "63/63 [==============================] - 31s 496ms/step - loss: 0.0853\n",
      "Epoch 18/20\n",
      "63/63 [==============================] - 31s 497ms/step - loss: 0.0814\n",
      "Epoch 19/20\n",
      "63/63 [==============================] - 31s 491ms/step - loss: 0.0821\n",
      "Epoch 20/20\n",
      "63/63 [==============================] - 31s 488ms/step - loss: 0.0825\n",
      "Epoch 1/20\n",
      "63/63 [==============================] - 31s 497ms/step - loss: 0.2620\n",
      "Epoch 2/20\n",
      "63/63 [==============================] - 31s 484ms/step - loss: 0.2132\n",
      "Epoch 3/20\n",
      "63/63 [==============================] - 31s 490ms/step - loss: 0.1822\n",
      "Epoch 4/20\n",
      "63/63 [==============================] - 31s 486ms/step - loss: 0.1881\n",
      "Epoch 5/20\n",
      "63/63 [==============================] - 31s 488ms/step - loss: 0.1512\n",
      "Epoch 6/20\n",
      "63/63 [==============================] - 31s 486ms/step - loss: 0.1410\n",
      "Epoch 7/20\n",
      "63/63 [==============================] - 30s 483ms/step - loss: 0.1321\n",
      "Epoch 8/20\n",
      "63/63 [==============================] - 31s 487ms/step - loss: 0.1186\n",
      "Epoch 9/20\n",
      "63/63 [==============================] - 31s 488ms/step - loss: 0.1137\n",
      "Epoch 10/20\n",
      "63/63 [==============================] - 31s 487ms/step - loss: 0.1081\n",
      "Epoch 11/20\n",
      "63/63 [==============================] - 31s 496ms/step - loss: 0.1121\n",
      "Epoch 12/20\n",
      "63/63 [==============================] - 31s 484ms/step - loss: 0.1049\n",
      "Epoch 13/20\n",
      "63/63 [==============================] - 31s 487ms/step - loss: 0.1070\n",
      "Epoch 14/20\n",
      "63/63 [==============================] - 31s 491ms/step - loss: 0.0959\n",
      "Epoch 15/20\n",
      "63/63 [==============================] - 31s 489ms/step - loss: 0.0953\n",
      "Epoch 16/20\n",
      "63/63 [==============================] - 31s 485ms/step - loss: 0.0913\n",
      "Epoch 17/20\n",
      "63/63 [==============================] - 31s 485ms/step - loss: 0.0964\n",
      "Epoch 18/20\n",
      "63/63 [==============================] - 31s 488ms/step - loss: 0.0885\n",
      "Epoch 19/20\n",
      "63/63 [==============================] - 31s 487ms/step - loss: 0.0842\n",
      "Epoch 20/20\n",
      "63/63 [==============================] - 31s 488ms/step - loss: 0.0865\n",
      "Epoch 1/20\n",
      "63/63 [==============================] - 31s 486ms/step - loss: 0.1176\n",
      "Epoch 2/20\n",
      "63/63 [==============================] - 30s 484ms/step - loss: 0.0981\n",
      "Epoch 3/20\n",
      "63/63 [==============================] - 31s 487ms/step - loss: 0.0987\n",
      "Epoch 4/20\n",
      "63/63 [==============================] - 31s 486ms/step - loss: 0.1257\n",
      "Epoch 5/20\n",
      "63/63 [==============================] - 30s 482ms/step - loss: 0.1003\n",
      "Epoch 6/20\n",
      "63/63 [==============================] - 31s 489ms/step - loss: 0.0886\n",
      "Epoch 7/20\n",
      "63/63 [==============================] - 31s 486ms/step - loss: 0.0808\n",
      "Epoch 8/20\n",
      "63/63 [==============================] - 31s 493ms/step - loss: 0.0760\n",
      "Epoch 9/20\n",
      "63/63 [==============================] - 31s 494ms/step - loss: 0.0785\n",
      "Epoch 10/20\n",
      "63/63 [==============================] - 31s 495ms/step - loss: 0.0745\n",
      "Epoch 11/20\n",
      "63/63 [==============================] - 31s 491ms/step - loss: 0.0801\n",
      "Epoch 12/20\n",
      "63/63 [==============================] - 31s 487ms/step - loss: 0.0722\n",
      "Epoch 13/20\n",
      "63/63 [==============================] - 31s 488ms/step - loss: 0.0716\n",
      "Epoch 14/20\n",
      "63/63 [==============================] - 31s 489ms/step - loss: 0.0727\n",
      "Epoch 15/20\n",
      "63/63 [==============================] - 31s 491ms/step - loss: 0.0707\n",
      "Epoch 16/20\n",
      "63/63 [==============================] - 31s 489ms/step - loss: 0.0741\n",
      "Epoch 17/20\n",
      "63/63 [==============================] - 31s 488ms/step - loss: 0.0762\n",
      "Epoch 18/20\n",
      "63/63 [==============================] - 31s 491ms/step - loss: 0.0697\n",
      "Epoch 19/20\n",
      "63/63 [==============================] - 31s 489ms/step - loss: 0.0686\n",
      "Epoch 20/20\n",
      "63/63 [==============================] - 31s 488ms/step - loss: 0.0723\n"
     ]
    }
   ],
   "source": [
    "# Entrainer le modèle en des paquets loss = history.history[\"loss\"][:20]\n",
    "for i in range(2, 18, 2):\n",
    "    history = model_5.fit(\n",
    "        np.array(X_soap_train[i * 1000 : i * 1000 + 2000,]),\n",
    "        np.array(Yen_soap_train[i * 1000 : i * 1000 + 2000]),\n",
    "        verbose=1,\n",
    "        epochs=20,\n",
    "    )\n",
    "    loss = loss + history.history[\"loss\"][:20]"
   ]
  },
  {
   "cell_type": "code",
   "execution_count": 10,
   "id": "29f7d3ed",
   "metadata": {
    "scrolled": true
   },
   "outputs": [
    {
     "data": {
      "image/png": "[encoded data removed]",
      "text/plain": [
       "<Figure size 432x288 with 1 Axes>"
      ]
     },
     "metadata": {
      "needs_background": "light"
     },
     "output_type": "display_data"
    }
   ],
   "source": [
    "plt.plot(np.arange(len(loss)), loss)\n",
    "plt.xlabel(\"epochs\")\n",
    "plt.ylabel(\"MAE Loss\")\n",
    "plt.title(\"Model with 4 layers\")\n",
    "plt.savefig(\"Loss_nn_4.png\")"
   ]
  },
  {
   "cell_type": "code",
   "execution_count": 35,
   "id": "e9ed72ac",
   "metadata": {},
   "outputs": [
    {
     "data": {
      "text/plain": [
       "(-5.0, 5.0)"
      ]
     },
     "execution_count": 35,
     "metadata": {},
     "output_type": "execute_result"
    },
    {
     "data": {
      "image/png": "[encoded data removed]",
      "text/plain": [
       "<Figure size 432x288 with 1 Axes>"
      ]
     },
     "metadata": {
      "needs_background": "light"
     },
     "output_type": "display_data"
    }
   ],
   "source": [
    "MYen_soap_predict = model_5.predict(X_soap_test)\n",
    "plt.scatter(MYen_soap_predict, Yen_soap_test)\n",
    "plt.plot([-5, 5], [-5, 5])\n",
    "plt.xlabel(\"predicted energy formation\")\n",
    "plt.ylabel(\"real energy formation\")\n",
    "\n",
    "plt.xlim([-5, 5])"
   ]
  },
  {
   "cell_type": "code",
   "execution_count": 29,
   "id": "0a6494d1",
   "metadata": {},
   "outputs": [
    {
     "name": "stdout",
     "output_type": "stream",
     "text": [
      "INFO:tensorflow:Assets written to: NN_soap_relu_real_More_layers\\assets\n"
     ]
    }
   ],
   "source": [
    "# Sauvegarder le model\n",
    "model.save(\"NN_soap_relu_real_More_layers\")"
   ]
  }
 ],
 "metadata": {
  "kernelspec": {
   "display_name": "Python 3 (ipykernel)",
   "language": "python",
   "name": "python3"
  },
  "language_info": {
   "codemirror_mode": {
    "name": "ipython",
    "version": 3
   },
   "file_extension": ".py",
   "mimetype": "text/x-python",
   "name": "python",
   "nbconvert_exporter": "python",
   "pygments_lexer": "ipython3",
   "version": "3.9.12"
  }
 },
 "nbformat": 4,
 "nbformat_minor": 5
}
