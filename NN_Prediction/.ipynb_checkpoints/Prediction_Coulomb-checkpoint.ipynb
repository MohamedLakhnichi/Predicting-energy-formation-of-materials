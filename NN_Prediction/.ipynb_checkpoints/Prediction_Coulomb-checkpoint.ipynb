{
 "cells": [
  {
   "cell_type": "code",
   "execution_count": 1,
   "id": "684434f4",
   "metadata": {},
   "outputs": [],
   "source": [
    "import json\n",
    "\n",
    "import matplotlib.pyplot as plt\n",
    "import numpy as np\n",
    "import pandas as pd\n",
    "from ase import Atoms\n",
    "from dscribe.descriptors import SOAP, CoulombMatrix\n",
    "from matminer.data_retrieval.retrieve_MP import MPDataRetrieval\n",
    "from pymatgen.ext.matproj import MPRester\n",
    "from pymatgen.io.cif import CifParser\n",
    "from tqdm import tqdm"
   ]
  },
  {
   "cell_type": "code",
   "execution_count": 2,
   "id": "b03fbe41",
   "metadata": {},
   "outputs": [],
   "source": [
    "atoms = np.load(\"atoms.npy\", allow_pickle=True)"
   ]
  },
  {
   "cell_type": "code",
   "execution_count": 24,
   "id": "c14fa73b",
   "metadata": {},
   "outputs": [
    {
     "data": {
      "text/plain": [
       "47743"
      ]
     },
     "execution_count": 24,
     "metadata": {},
     "output_type": "execute_result"
    }
   ],
   "source": [
    "len(atoms)"
   ]
  },
  {
   "cell_type": "code",
   "execution_count": 8,
   "id": "a71daa1f",
   "metadata": {},
   "outputs": [],
   "source": [
    "df = pd.read_csv(\"Materials_ene_real.csv\")"
   ]
  },
  {
   "cell_type": "code",
   "execution_count": 4,
   "id": "34686f49",
   "metadata": {},
   "outputs": [
    {
     "name": "stdout",
     "output_type": "stream",
     "text": [
      "432\n"
     ]
    }
   ],
   "source": [
    "# Determiner le Nmax pour la matrice de Coulomb\n",
    "Nel_max = max([len(at.get_positions()) for at in atoms])\n",
    "print(Nel_max)"
   ]
  },
  {
   "cell_type": "code",
   "execution_count": 5,
   "id": "27e926a4",
   "metadata": {},
   "outputs": [],
   "source": [
    "# Permutation='eigenspectrum' pour envoyer les valeurs propres\n",
    "cm = CoulombMatrix(n_atoms_max=Nel_max, permutation=\"eigenspectrum\")\n",
    "CMs = []\n",
    "for atom in atoms:\n",
    "    CMs.append(cm.create(atom))\n",
    "CMs = np.array(CMs)"
   ]
  },
  {
   "cell_type": "code",
   "execution_count": 6,
   "id": "7bf4cbf6",
   "metadata": {},
   "outputs": [
    {
     "data": {
      "text/plain": [
       "(47743, 432)"
      ]
     },
     "execution_count": 6,
     "metadata": {},
     "output_type": "execute_result"
    }
   ],
   "source": [
    "CMs.shape"
   ]
  },
  {
   "cell_type": "code",
   "execution_count": 15,
   "id": "49953d15",
   "metadata": {},
   "outputs": [],
   "source": [
    "X_soap_train, X_soap_test = CMs[:45000, :], CMs[45000:, :]\n",
    "Yen_soap_train, Yen_soap_test = df.iloc[:45000, 2], df.iloc[45000:, 2]"
   ]
  },
  {
   "cell_type": "code",
   "execution_count": 28,
   "id": "e689a122",
   "metadata": {},
   "outputs": [
    {
     "data": {
      "text/plain": [
       "(-1.318604198721619, 21599.00489818433)"
      ]
     },
     "execution_count": 28,
     "metadata": {},
     "output_type": "execute_result"
    }
   ],
   "source": [
    "np.min(X_soap_train), np.max(X_soap_train)"
   ]
  },
  {
   "cell_type": "code",
   "execution_count": 11,
   "id": "f88d15f6",
   "metadata": {
    "collapsed": true,
    "jupyter": {
     "outputs_hidden": true
    },
    "tags": []
   },
   "outputs": [
    {
     "name": "stdout",
     "output_type": "stream",
     "text": [
      "Model: \"sequential\"\n",
      "_________________________________________________________________\n",
      " Layer (type)                Output Shape              Param #   \n",
      "=================================================================\n",
      " dense (Dense)               (None, 1048)              453784    \n",
      "                                                                 \n",
      " dense_1 (Dense)             (None, 256)               268544    \n",
      "                                                                 \n",
      " dense_2 (Dense)             (None, 128)               32896     \n",
      "                                                                 \n",
      " dense_3 (Dense)             (None, 64)                8256      \n",
      "                                                                 \n",
      " dense_4 (Dense)             (None, 1)                 65        \n",
      "                                                                 \n",
      "=================================================================\n",
      "Total params: 763,545\n",
      "Trainable params: 763,545\n",
      "Non-trainable params: 0\n",
      "_________________________________________________________________\n",
      "None\n",
      "Epoch 1/20\n",
      "1407/1407 [==============================] - 10s 7ms/step - loss: 2.3741\n",
      "Epoch 2/20\n",
      "1407/1407 [==============================] - 10s 7ms/step - loss: 0.7139\n",
      "Epoch 3/20\n",
      "1407/1407 [==============================] - 9s 7ms/step - loss: 0.6771\n",
      "Epoch 4/20\n",
      "1407/1407 [==============================] - 10s 7ms/step - loss: 0.6149\n",
      "Epoch 5/20\n",
      "1407/1407 [==============================] - 10s 7ms/step - loss: 0.5785\n",
      "Epoch 6/20\n",
      "1407/1407 [==============================] - 10s 7ms/step - loss: 0.5464\n",
      "Epoch 7/20\n",
      "1407/1407 [==============================] - 10s 7ms/step - loss: 0.5157\n",
      "Epoch 8/20\n",
      "1407/1407 [==============================] - 10s 7ms/step - loss: 0.5047\n",
      "Epoch 9/20\n",
      "1407/1407 [==============================] - 10s 7ms/step - loss: 0.4918\n",
      "Epoch 10/20\n",
      "1407/1407 [==============================] - 10s 7ms/step - loss: 0.4799\n",
      "Epoch 11/20\n",
      "1407/1407 [==============================] - 10s 7ms/step - loss: 0.4728\n",
      "Epoch 12/20\n",
      "1407/1407 [==============================] - 10s 7ms/step - loss: 0.4678\n",
      "Epoch 13/20\n",
      "1407/1407 [==============================] - 10s 7ms/step - loss: 0.4629\n",
      "Epoch 14/20\n",
      "1407/1407 [==============================] - 10s 7ms/step - loss: 0.4603\n",
      "Epoch 15/20\n",
      "1407/1407 [==============================] - 11s 8ms/step - loss: 0.4545\n",
      "Epoch 16/20\n",
      "1407/1407 [==============================] - 10s 7ms/step - loss: 0.4514\n",
      "Epoch 17/20\n",
      "1407/1407 [==============================] - 10s 7ms/step - loss: 0.4492\n",
      "Epoch 18/20\n",
      "1407/1407 [==============================] - 10s 7ms/step - loss: 0.4509\n",
      "Epoch 19/20\n",
      "1407/1407 [==============================] - 11s 7ms/step - loss: 0.4443\n",
      "Epoch 20/20\n",
      "1407/1407 [==============================] - 10s 7ms/step - loss: 0.4468\n"
     ]
    }
   ],
   "source": [
    "import tensorflow as tf\n",
    "from tensorflow import keras\n",
    "from tensorflow.keras import layers\n",
    "\n",
    "model = keras.Sequential(\n",
    "    [\n",
    "        layers.Input(X_soap_train.shape[1],),\n",
    "        layers.Dense(1048, activation=\"relu\"),\n",
    "        layers.Dense(256, activation=\"relu\"),\n",
    "        layers.Dense(128, activation=\"relu\"),\n",
    "        layers.Dense(64, activation=\"relu\"),\n",
    "        layers.Dense(1),\n",
    "    ]\n",
    ")\n",
    "\n",
    "model.compile(loss=\"mean_absolute_error\", optimizer=tf.keras.optimizers.Adam(0.001))\n",
    "print(model.summary())\n",
    "\n",
    "\n",
    "history = model.fit(\n",
    "    np.array(X_soap_train), np.array(Yen_soap_train), verbose=1, epochs=20\n",
    ")"
   ]
  },
  {
   "cell_type": "code",
   "execution_count": 16,
   "id": "0ebf1351",
   "metadata": {},
   "outputs": [],
   "source": [
    "X_soap_test, Yen_soap_test = CMs[45000:45300], df.iloc[45000:45300, 2]"
   ]
  },
  {
   "cell_type": "code",
   "execution_count": 39,
   "id": "e61ca2bb",
   "metadata": {},
   "outputs": [
    {
     "name": "stdout",
     "output_type": "stream",
     "text": [
      "10/10 [==============================] - 0s 5ms/step - loss: 0.5021\n"
     ]
    },
    {
     "data": {
      "image/png": "[encoded data removed]",
      "text/plain": [
       "<Figure size 432x288 with 1 Axes>"
      ]
     },
     "metadata": {
      "needs_background": "light"
     },
     "output_type": "display_data"
    }
   ],
   "source": [
    "MYen_soap_predict = model.predict(X_soap_test)\n",
    "score = model.evaluate(X_soap_test, Yen_soap_test)\n",
    "\n",
    "plt.scatter(MYen_soap_predict, Yen_soap_test)\n",
    "plt.plot([-5, 5], [-5, 5])\n",
    "plt.xlabel(\"predicted energy formation\")\n",
    "plt.ylabel(\"real energy formation\")\n",
    "plt.title(f\"Model with 5 layers ---> Loss:{np.round(score,3)}\")\n",
    "plt.xlim([-5, 5])\n",
    "plt.savefig(\"prediction_nn_coul_5.png\")"
   ]
  },
  {
   "cell_type": "code",
   "execution_count": 30,
   "id": "33e6a834",
   "metadata": {
    "collapsed": true,
    "jupyter": {
     "outputs_hidden": true
    },
    "tags": []
   },
   "outputs": [
    {
     "name": "stdout",
     "output_type": "stream",
     "text": [
      "Model: \"sequential_5\"\n",
      "_________________________________________________________________\n",
      " Layer (type)                Output Shape              Param #   \n",
      "=================================================================\n",
      " dense_23 (Dense)            (None, 256)               110848    \n",
      "                                                                 \n",
      " dense_24 (Dense)            (None, 128)               32896     \n",
      "                                                                 \n",
      " dense_25 (Dense)            (None, 64)                8256      \n",
      "                                                                 \n",
      " dense_26 (Dense)            (None, 1)                 65        \n",
      "                                                                 \n",
      "=================================================================\n",
      "Total params: 152,065\n",
      "Trainable params: 152,065\n",
      "Non-trainable params: 0\n",
      "_________________________________________________________________\n",
      "None\n",
      "Epoch 1/20\n",
      "1407/1407 [==============================] - 9s 5ms/step - loss: 2.8905\n",
      "Epoch 2/20\n",
      "1407/1407 [==============================] - 7s 5ms/step - loss: 0.8278\n",
      "Epoch 3/20\n",
      "1407/1407 [==============================] - 6s 5ms/step - loss: 0.7778\n",
      "Epoch 4/20\n",
      "1407/1407 [==============================] - 6s 4ms/step - loss: 0.7404\n",
      "Epoch 5/20\n",
      "1407/1407 [==============================] - 6s 4ms/step - loss: 0.6482\n",
      "Epoch 6/20\n",
      "1407/1407 [==============================] - 7s 5ms/step - loss: 0.6079\n",
      "Epoch 7/20\n",
      "1407/1407 [==============================] - 7s 5ms/step - loss: 0.5824\n",
      "Epoch 8/20\n",
      "1407/1407 [==============================] - 7s 5ms/step - loss: 0.5647\n",
      "Epoch 9/20\n",
      "1407/1407 [==============================] - 6s 5ms/step - loss: 0.5541\n",
      "Epoch 10/20\n",
      "1407/1407 [==============================] - 7s 5ms/step - loss: 0.5412\n",
      "Epoch 11/20\n",
      "1407/1407 [==============================] - 7s 5ms/step - loss: 0.5327\n",
      "Epoch 12/20\n",
      "1407/1407 [==============================] - 7s 5ms/step - loss: 0.5264\n",
      "Epoch 13/20\n",
      "1407/1407 [==============================] - 7s 5ms/step - loss: 0.5223\n",
      "Epoch 14/20\n",
      "1407/1407 [==============================] - 6s 4ms/step - loss: 0.5209\n",
      "Epoch 15/20\n",
      "1407/1407 [==============================] - 6s 4ms/step - loss: 0.5214\n",
      "Epoch 16/20\n",
      "1407/1407 [==============================] - 6s 4ms/step - loss: 0.5168\n",
      "Epoch 17/20\n",
      "1407/1407 [==============================] - 6s 4ms/step - loss: 0.5185\n",
      "Epoch 18/20\n",
      "1407/1407 [==============================] - 6s 5ms/step - loss: 0.5095\n",
      "Epoch 19/20\n",
      "1407/1407 [==============================] - 6s 4ms/step - loss: 0.5112\n",
      "Epoch 20/20\n",
      "1407/1407 [==============================] - 6s 4ms/step - loss: 0.5039\n"
     ]
    }
   ],
   "source": [
    "model1 = keras.Sequential(\n",
    "    [\n",
    "        layers.Input(X_soap_train.shape[1],),\n",
    "        layers.Dense(256, activation=\"relu\"),\n",
    "        layers.Dense(128, activation=\"relu\"),\n",
    "        layers.Dense(64, activation=\"relu\"),\n",
    "        layers.Dense(1),\n",
    "    ]\n",
    ")\n",
    "\n",
    "model1.compile(loss=\"mean_absolute_error\", optimizer=tf.keras.optimizers.Adam(0.001))\n",
    "print(model1.summary())\n",
    "\n",
    "\n",
    "history1 = model1.fit(\n",
    "    np.array(X_soap_train), np.array(Yen_soap_train), verbose=1, epochs=20\n",
    ")"
   ]
  },
  {
   "cell_type": "code",
   "execution_count": 38,
   "id": "974e565d",
   "metadata": {},
   "outputs": [
    {
     "name": "stdout",
     "output_type": "stream",
     "text": [
      "10/10 [==============================] - 0s 6ms/step - loss: 0.5489\n"
     ]
    },
    {
     "data": {
      "image/png": "[encoded data removed]",
      "text/plain": [
       "<Figure size 432x288 with 1 Axes>"
      ]
     },
     "metadata": {
      "needs_background": "light"
     },
     "output_type": "display_data"
    }
   ],
   "source": [
    "MYen_soap_predict = model1.predict(X_soap_test)\n",
    "score = model1.evaluate(X_soap_test, Yen_soap_test)\n",
    "\n",
    "plt.scatter(MYen_soap_predict, Yen_soap_test)\n",
    "plt.plot([-5, 5], [-5, 5])\n",
    "plt.xlabel(\"predicted energy formation\")\n",
    "plt.ylabel(\"real energy formation\")\n",
    "plt.title(f\"Model with 4 layers ---> Loss:{np.round(score,3)}\")\n",
    "plt.xlim([-5, 5])\n",
    "plt.savefig(\"prediction_nn_coul_4.png\")"
   ]
  },
  {
   "cell_type": "code",
   "execution_count": 32,
   "id": "c26837a4",
   "metadata": {},
   "outputs": [],
   "source": [
    "loss = history.history[\"loss\"]\n",
    "loss1 = history1.history[\"loss\"]"
   ]
  },
  {
   "cell_type": "code",
   "execution_count": 34,
   "id": "bc52c882",
   "metadata": {},
   "outputs": [
    {
     "data": {
      "image/png": "[encoded data removed]",
      "text/plain": [
       "<Figure size 432x288 with 1 Axes>"
      ]
     },
     "metadata": {
      "needs_background": "light"
     },
     "output_type": "display_data"
    }
   ],
   "source": [
    "plt.plot(np.arange(len(loss)), loss, \"-o\")\n",
    "plt.xlabel(\"epochs\")\n",
    "plt.ylabel(\"MAE Loss\")\n",
    "plt.title(\"Model with 5 layers\")\n",
    "plt.savefig(\"Loss_nn_coul_5.png\")"
   ]
  },
  {
   "cell_type": "code",
   "execution_count": 36,
   "id": "9e798963",
   "metadata": {},
   "outputs": [
    {
     "data": {
      "image/png": "[encoded data removed]",
      "text/plain": [
       "<Figure size 432x288 with 1 Axes>"
      ]
     },
     "metadata": {
      "needs_background": "light"
     },
     "output_type": "display_data"
    }
   ],
   "source": [
    "plt.plot(np.arange(len(loss1)), loss1, \"-o\")\n",
    "plt.xlabel(\"epochs\")\n",
    "plt.ylabel(\"MAE Loss\")\n",
    "plt.title(\"Model with 4 layers\")\n",
    "plt.savefig(\"Loss_nn_coul_4.png\")"
   ]
  }
 ],
 "metadata": {
  "kernelspec": {
   "display_name": "Python 3 (ipykernel)",
   "language": "python",
   "name": "python3"
  },
  "language_info": {
   "codemirror_mode": {
    "name": "ipython",
    "version": 3
   },
   "file_extension": ".py",
   "mimetype": "text/x-python",
   "name": "python",
   "nbconvert_exporter": "python",
   "pygments_lexer": "ipython3",
   "version": "3.9.12"
  }
 },
 "nbformat": 4,
 "nbformat_minor": 5
}
