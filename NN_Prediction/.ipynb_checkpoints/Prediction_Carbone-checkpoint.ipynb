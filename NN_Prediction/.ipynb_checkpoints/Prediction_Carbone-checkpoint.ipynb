{
 "cells": [
  {
   "cell_type": "code",
   "execution_count": 1,
   "id": "6423390d",
   "metadata": {},
   "outputs": [],
   "source": [
    "import json\n",
    "\n",
    "import matplotlib.pyplot as plt\n",
    "import numpy as np\n",
    "import pandas as pd\n",
    "from ase import Atoms\n",
    "from dscribe.descriptors import SOAP, CoulombMatrix\n",
    "from matminer.data_retrieval.retrieve_MP import MPDataRetrieval\n",
    "from pymatgen.ext.matproj import MPRester\n",
    "from pymatgen.io.cif import CifParser\n",
    "from tqdm import tqdm"
   ]
  },
  {
   "cell_type": "code",
   "execution_count": 6,
   "id": "1063ef26",
   "metadata": {},
   "outputs": [],
   "source": [
    "f = open(\"dataFormEnCif_with_Carbone.txt\", \"r\")\n",
    "truc = json.loads(f.read())\n",
    "df = pd.DataFrame(truc[\"response\"])"
   ]
  },
  {
   "cell_type": "code",
   "execution_count": 7,
   "id": "af055c1a",
   "metadata": {
    "scrolled": true
   },
   "outputs": [
    {
     "data": {
      "text/html": [
       "<div>\n",
       "<style scoped>\n",
       "    .dataframe tbody tr th:only-of-type {\n",
       "        vertical-align: middle;\n",
       "    }\n",
       "\n",
       "    .dataframe tbody tr th {\n",
       "        vertical-align: top;\n",
       "    }\n",
       "\n",
       "    .dataframe thead th {\n",
       "        text-align: right;\n",
       "    }\n",
       "</style>\n",
       "<table border=\"1\" class=\"dataframe\">\n",
       "  <thead>\n",
       "    <tr style=\"text-align: right;\">\n",
       "      <th></th>\n",
       "      <th>cif</th>\n",
       "      <th>formation_energy_per_atom</th>\n",
       "    </tr>\n",
       "  </thead>\n",
       "  <tbody>\n",
       "    <tr>\n",
       "      <th>0</th>\n",
       "      <td># generated using pymatgen\\ndata_C\\n_symmetry_...</td>\n",
       "      <td>0.142597</td>\n",
       "    </tr>\n",
       "    <tr>\n",
       "      <th>1</th>\n",
       "      <td># generated using pymatgen\\ndata_C\\n_symmetry_...</td>\n",
       "      <td>2.605766</td>\n",
       "    </tr>\n",
       "    <tr>\n",
       "      <th>2</th>\n",
       "      <td># generated using pymatgen\\ndata_C\\n_symmetry_...</td>\n",
       "      <td>0.697407</td>\n",
       "    </tr>\n",
       "    <tr>\n",
       "      <th>3</th>\n",
       "      <td># generated using pymatgen\\ndata_C\\n_symmetry_...</td>\n",
       "      <td>0.833079</td>\n",
       "    </tr>\n",
       "    <tr>\n",
       "      <th>4</th>\n",
       "      <td># generated using pymatgen\\ndata_C\\n_symmetry_...</td>\n",
       "      <td>0.265893</td>\n",
       "    </tr>\n",
       "  </tbody>\n",
       "</table>\n",
       "</div>"
      ],
      "text/plain": [
       "                                                 cif  \\\n",
       "0  # generated using pymatgen\\ndata_C\\n_symmetry_...   \n",
       "1  # generated using pymatgen\\ndata_C\\n_symmetry_...   \n",
       "2  # generated using pymatgen\\ndata_C\\n_symmetry_...   \n",
       "3  # generated using pymatgen\\ndata_C\\n_symmetry_...   \n",
       "4  # generated using pymatgen\\ndata_C\\n_symmetry_...   \n",
       "\n",
       "   formation_energy_per_atom  \n",
       "0                   0.142597  \n",
       "1                   2.605766  \n",
       "2                   0.697407  \n",
       "3                   0.833079  \n",
       "4                   0.265893  "
      ]
     },
     "execution_count": 7,
     "metadata": {},
     "output_type": "execute_result"
    }
   ],
   "source": [
    "df.head()"
   ]
  },
  {
   "cell_type": "code",
   "execution_count": 9,
   "id": "29e720e7",
   "metadata": {},
   "outputs": [],
   "source": [
    "def CIF2Atom(cif):\n",
    "    \"\"\"\n",
    "    Generates an atom object using the cif file downloaded from MaterialProject\n",
    "    \"\"\"\n",
    "    blurp = CifParser.from_string(cif)\n",
    "    blurpDict = blurp.as_dict()\n",
    "    blurpDict = blurpDict.popitem()[1]\n",
    "    # Cell\n",
    "    in_cell = [\n",
    "        float(blurpDict[\"_cell_length_a\"]),\n",
    "        float(blurpDict[\"_cell_length_b\"]),\n",
    "        float(blurpDict[\"_cell_length_c\"]),\n",
    "        float(blurpDict[\"_cell_angle_alpha\"]),\n",
    "        float(blurpDict[\"_cell_angle_beta\"]),\n",
    "        float(blurpDict[\"_cell_angle_gamma\"]),\n",
    "    ]\n",
    "\n",
    "    # Numbers\n",
    "    in_numbers = [\n",
    "        dictionnaireTabPeriodique[i] for i in blurpDict[\"_atom_site_type_symbol\"]\n",
    "    ]\n",
    "\n",
    "    # Positions\n",
    "    tabX = np.array(blurpDict[\"_atom_site_fract_x\"]).astype(float)\n",
    "    tabY = np.array(blurpDict[\"_atom_site_fract_y\"]).astype(float)\n",
    "    tabZ = np.array(blurpDict[\"_atom_site_fract_z\"]).astype(float)\n",
    "    tabX = tabX.reshape((1, tabX.shape[0]))\n",
    "    tabY = tabY.reshape((1, tabY.shape[0]))\n",
    "    tabZ = tabZ.reshape((1, tabZ.shape[0]))\n",
    "    in_positions = np.concatenate((tabX, tabY, tabZ), axis=0).transpose()\n",
    "    return Atoms(\n",
    "        cell=in_cell,\n",
    "        numbers=in_numbers,\n",
    "        scaled_positions=in_positions,\n",
    "        pbc=[True, True, True],\n",
    "    )"
   ]
  },
  {
   "cell_type": "code",
   "execution_count": 10,
   "id": "54b22808",
   "metadata": {},
   "outputs": [],
   "source": [
    "dictionnaireTabPeriodique = {\n",
    "    \"H\": 1,\n",
    "    \"He\": 2,\n",
    "    \"Li\": 3,\n",
    "    \"Be\": 4,\n",
    "    \"B\": 5,\n",
    "    \"C\": 6,\n",
    "    \"N\": 7,\n",
    "    \"O\": 8,\n",
    "    \"F\": 9,\n",
    "    \"Ne\": 10,\n",
    "    \"Na\": 11,\n",
    "    \"Mg\": 12,\n",
    "    \"Al\": 13,\n",
    "    \"Si\": 14,\n",
    "    \"P\": 15,\n",
    "    \"S\": 16,\n",
    "    \"Cl\": 17,\n",
    "    \"Ar\": 18,\n",
    "    \"K\": 19,\n",
    "    \"Ca\": 20,\n",
    "    \"Sc\": 21,\n",
    "    \"Ti\": 22,\n",
    "    \"V\": 23,\n",
    "    \"Cr\": 24,\n",
    "    \"Mn\": 25,\n",
    "    \"Fe\": 26,\n",
    "    \"Co\": 27,\n",
    "    \"Ni\": 28,\n",
    "    \"Cu\": 29,\n",
    "    \"Zn\": 30,\n",
    "    \"Ga\": 31,\n",
    "    \"Ge\": 32,\n",
    "    \"As\": 33,\n",
    "    \"Se\": 34,\n",
    "    \"Br\": 35,\n",
    "    \"Kr\": 36,\n",
    "    \"Rb\": 37,\n",
    "    \"Sr\": 38,\n",
    "    \"Y\": 39,\n",
    "    \"Zr\": 40,\n",
    "    \"Nb\": 41,\n",
    "    \"Mo\": 42,\n",
    "    \"Tc\": 43,\n",
    "    \"Ru\": 44,\n",
    "    \"Rh\": 45,\n",
    "    \"Pd\": 46,\n",
    "    \"Ag\": 47,\n",
    "    \"Cd\": 48,\n",
    "    \"In\": 49,\n",
    "    \"Sn\": 50,\n",
    "    \"Sb\": 51,\n",
    "    \"Te\": 52,\n",
    "    \"I\": 53,\n",
    "    \"Xe\": 54,\n",
    "    \"Cs\": 55,\n",
    "    \"Ba\": 56,\n",
    "    \"La\": 57,\n",
    "    \"Ce\": 58,\n",
    "    \"Pr\": 59,\n",
    "    \"Nd\": 60,\n",
    "    \"Pm\": 61,\n",
    "    \"Sm\": 62,\n",
    "    \"Eu\": 63,\n",
    "    \"Gd\": 64,\n",
    "    \"Tb\": 65,\n",
    "    \"Dy\": 66,\n",
    "    \"Ho\": 67,\n",
    "    \"Er\": 68,\n",
    "    \"Tm\": 69,\n",
    "    \"Yb\": 70,\n",
    "    \"Lu\": 71,\n",
    "    \"Hf\": 72,\n",
    "    \"Ta\": 73,\n",
    "    \"W\": 74,\n",
    "    \"Re\": 75,\n",
    "    \"Os\": 76,\n",
    "    \"Ir\": 77,\n",
    "    \"Pt\": 78,\n",
    "    \"Au\": 79,\n",
    "    \"Hg\": 80,\n",
    "    \"Tl\": 81,\n",
    "    \"Pb\": 82,\n",
    "    \"Bi\": 83,\n",
    "    \"Po\": 84,\n",
    "    \"At\": 85,\n",
    "    \"Rn\": 86,\n",
    "    \"Fr\": 87,\n",
    "    \"Ra\": 88,\n",
    "    \"Ac\": 89,\n",
    "    \"Th\": 90,\n",
    "    \"Pa\": 91,\n",
    "    \"U\": 92,\n",
    "    \"Np\": 93,\n",
    "    \"Pu\": 94,\n",
    "    \"Am\": 95,\n",
    "    \"Cm\": 96,\n",
    "    \"Bk\": 97,\n",
    "    \"Cf\": 98,\n",
    "    \"Es\": 99,\n",
    "    \"Fm\": 100,\n",
    "    \"Md\": 101,\n",
    "    \"No\": 102,\n",
    "    \"Lr\": 103,\n",
    "    \"Rf\": 104,\n",
    "    \"Db\": 105,\n",
    "    \"Sg\": 106,\n",
    "    \"Bh\": 107,\n",
    "    \"Hs\": 108,\n",
    "    \"Mt\": 109,\n",
    "    \"Ds\": 110,\n",
    "    \"Rg\": 111,\n",
    "    \"Cn\": 112,\n",
    "    \"Uut\": 113,\n",
    "    \"Fl\": 114,\n",
    "    \"Uup\": 115,\n",
    "    \"Lv\": 116,\n",
    "    \"Uus\": 117,\n",
    "    \"Uuo\": 118,\n",
    "}"
   ]
  },
  {
   "cell_type": "code",
   "execution_count": 11,
   "id": "48ac7d28",
   "metadata": {},
   "outputs": [
    {
     "name": "stderr",
     "output_type": "stream",
     "text": [
      "100%|█████████████████████████████████████████████████████████████████████████████| 7604/7604 [00:14<00:00, 520.06it/s]\n"
     ]
    }
   ],
   "source": [
    "atoms = []\n",
    "for cif in tqdm(df[\"cif\"]):\n",
    "    atoms.append(CIF2Atom(cif))"
   ]
  },
  {
   "cell_type": "code",
   "execution_count": 42,
   "id": "2661bc8b",
   "metadata": {},
   "outputs": [],
   "source": [
    "Zmax = 56\n",
    "rcut = 6.0\n",
    "nmax = 5\n",
    "lmax = 5\n",
    "\n",
    "\n",
    "periodic_soap = SOAP(\n",
    "    species=[i for i in range(1, Zmax + 1)],\n",
    "    rcut=rcut,\n",
    "    nmax=nmax,\n",
    "    lmax=lmax,\n",
    "    periodic=True,\n",
    "    sparse=False,\n",
    ")"
   ]
  },
  {
   "cell_type": "code",
   "execution_count": 36,
   "id": "28a0bcc5",
   "metadata": {},
   "outputs": [],
   "source": [
    "def get_soaps(atoms, soap_model):\n",
    "    soaps = []\n",
    "    for at in tqdm(atoms):\n",
    "        soap_crys = np.array(soap_model.create(at))\n",
    "        soap_crys = np.mean(soap_crys, axis=0)\n",
    "        soaps.append(soap_crys)\n",
    "    return soaps"
   ]
  },
  {
   "cell_type": "code",
   "execution_count": 37,
   "id": "db7b969c",
   "metadata": {},
   "outputs": [],
   "source": [
    "def filtre_atoms(atoms, Zmax):\n",
    "    new_atoms = []\n",
    "    indexes = []\n",
    "    for i in range(len(atoms)):\n",
    "        at = atoms[i]\n",
    "        Zm = max(at.get_atomic_numbers())\n",
    "        if Zm <= Zmax:\n",
    "            new_atoms.append(at)\n",
    "        else:\n",
    "            indexes.append(i)\n",
    "    return new_atoms, indexes"
   ]
  },
  {
   "cell_type": "code",
   "execution_count": 38,
   "id": "6d1ab2b9",
   "metadata": {},
   "outputs": [],
   "source": [
    "# Garder les matériaux dont les atomes ne dépassent pas Zmax\n",
    "atoms_filt, indexes = filtre_atoms(atoms, 56)"
   ]
  },
  {
   "cell_type": "code",
   "execution_count": 39,
   "id": "2ed23b5d",
   "metadata": {},
   "outputs": [],
   "source": [
    "# Supprimer les autres matériaux\n",
    "df = df.drop(indexes)"
   ]
  },
  {
   "cell_type": "code",
   "execution_count": 13,
   "id": "7b192c3d",
   "metadata": {
    "scrolled": true
   },
   "outputs": [
    {
     "name": "stderr",
     "output_type": "stream",
     "text": [
      "100%|██████████████████████████████████████████████████████████████████████████████| 5304/5304 [40:36<00:00,  2.18it/s]\n"
     ]
    }
   ],
   "source": [
    "soaps = []\n",
    "for at in tqdm(atoms_filt):\n",
    "    soap_crys = np.array(periodic_soap.create(at))\n",
    "    soap_crys = np.mean(soap_crys, axis=0)\n",
    "    soaps.append(soap_crys)"
   ]
  },
  {
   "cell_type": "code",
   "execution_count": 16,
   "id": "ff110ef2",
   "metadata": {},
   "outputs": [
    {
     "data": {
      "text/plain": [
       "236040"
      ]
     },
     "execution_count": 16,
     "metadata": {},
     "output_type": "execute_result"
    }
   ],
   "source": [
    "len(soaps[0])"
   ]
  },
  {
   "cell_type": "code",
   "execution_count": null,
   "id": "767a5458",
   "metadata": {},
   "outputs": [],
   "source": [
    "# Sauvegarder les soaps pour le modèle non normalisé\n",
    "np.save(\"soaps_carb\")"
   ]
  },
  {
   "cell_type": "code",
   "execution_count": null,
   "id": "f6d95808",
   "metadata": {},
   "outputs": [],
   "source": [
    "from sklearn.preprocessing import MinMaxScaler, StandardScaler\n",
    "\n",
    "# Deux façons pour normaliser les données\n",
    "Scaler = StandardScaler()\n",
    "Scaler.fit(X_soap_train)\n",
    "\n",
    "# Cas de normalisation\n",
    "# X_soap_train = Scaler.transform(X_soap_train)\n",
    "# X_soap_test = Scaler.transform(X_soap_test)"
   ]
  },
  {
   "cell_type": "code",
   "execution_count": 11,
   "id": "78df8c4c",
   "metadata": {
    "scrolled": true
   },
   "outputs": [],
   "source": [
    "X_soap_train, Yen_soap_train = np.array(soaps[:5000]), df.iloc[:5000, 1]\n",
    "X_soap_test, Yen_soap_test = np.array(soaps[5000:]), df.iloc[5000:, 1]"
   ]
  },
  {
   "cell_type": "code",
   "execution_count": 8,
   "id": "40bd4423",
   "metadata": {},
   "outputs": [
    {
     "data": {
      "text/plain": [
       "(-1742.1181862657636, 4319.657687291716)"
      ]
     },
     "execution_count": 8,
     "metadata": {},
     "output_type": "execute_result"
    }
   ],
   "source": [
    "np.min(X_soap_test), np.max(X_soap_test)"
   ]
  },
  {
   "cell_type": "code",
   "execution_count": 9,
   "id": "12219747",
   "metadata": {
    "scrolled": true
   },
   "outputs": [
    {
     "name": "stdout",
     "output_type": "stream",
     "text": [
      "Model: \"sequential\"\n",
      "_________________________________________________________________\n",
      " Layer (type)                Output Shape              Param #   \n",
      "=================================================================\n",
      " dense (Dense)               (None, 1048)              247370968 \n",
      "                                                                 \n",
      " dense_1 (Dense)             (None, 256)               268544    \n",
      "                                                                 \n",
      " dense_2 (Dense)             (None, 128)               32896     \n",
      "                                                                 \n",
      " dense_3 (Dense)             (None, 64)                8256      \n",
      "                                                                 \n",
      " dense_4 (Dense)             (None, 1)                 65        \n",
      "                                                                 \n",
      "=================================================================\n",
      "Total params: 247,680,729\n",
      "Trainable params: 247,680,729\n",
      "Non-trainable params: 0\n",
      "_________________________________________________________________\n",
      "None\n",
      "Epoch 1/20\n",
      "157/157 [==============================] - 176s 1s/step - loss: 2.3685\n",
      "Epoch 2/20\n",
      "157/157 [==============================] - 169s 1s/step - loss: 0.7311\n",
      "Epoch 3/20\n",
      "157/157 [==============================] - 166s 1s/step - loss: 0.4663\n",
      "Epoch 4/20\n",
      "157/157 [==============================] - 169s 1s/step - loss: 0.3610\n",
      "Epoch 5/20\n",
      "157/157 [==============================] - 173s 1s/step - loss: 0.3143\n",
      "Epoch 6/20\n",
      "157/157 [==============================] - 199s 1s/step - loss: 0.2780\n",
      "Epoch 7/20\n",
      "157/157 [==============================] - 163s 1s/step - loss: 0.2535\n",
      "Epoch 8/20\n",
      "157/157 [==============================] - 198s 1s/step - loss: 0.2470\n",
      "Epoch 9/20\n",
      "157/157 [==============================] - 156s 992ms/step - loss: 0.2231\n",
      "Epoch 10/20\n",
      "157/157 [==============================] - 146s 932ms/step - loss: 0.2132\n",
      "Epoch 11/20\n",
      "157/157 [==============================] - 145s 923ms/step - loss: 0.2030\n",
      "Epoch 12/20\n",
      "157/157 [==============================] - 146s 928ms/step - loss: 0.2061\n",
      "Epoch 13/20\n",
      "157/157 [==============================] - 145s 924ms/step - loss: 0.1845\n",
      "Epoch 14/20\n",
      "157/157 [==============================] - 144s 920ms/step - loss: 0.1841\n",
      "Epoch 15/20\n",
      "157/157 [==============================] - 144s 919ms/step - loss: 0.1822\n",
      "Epoch 16/20\n",
      "157/157 [==============================] - 146s 928ms/step - loss: 0.2031\n",
      "Epoch 17/20\n",
      "157/157 [==============================] - 145s 924ms/step - loss: 0.1795\n",
      "Epoch 18/20\n",
      "157/157 [==============================] - 144s 919ms/step - loss: 0.1731\n",
      "Epoch 19/20\n",
      "157/157 [==============================] - 145s 921ms/step - loss: 0.1859\n",
      "Epoch 20/20\n",
      "157/157 [==============================] - 146s 928ms/step - loss: 0.1627\n"
     ]
    }
   ],
   "source": [
    "import tensorflow as tf\n",
    "from tensorflow import keras\n",
    "from tensorflow.keras import layers\n",
    "\n",
    "model = keras.Sequential(\n",
    "    [\n",
    "        layers.Input(X_soap_train.shape[1],),\n",
    "        layers.Dense(1048, activation=\"relu\"),\n",
    "        layers.Dense(256, activation=\"relu\"),\n",
    "        layers.Dense(128, activation=\"relu\"),\n",
    "        layers.Dense(64, activation=\"relu\"),\n",
    "        layers.Dense(1),\n",
    "    ]\n",
    ")\n",
    "\n",
    "model.compile(loss=\"mean_absolute_error\", optimizer=tf.keras.optimizers.Adam(0.001))\n",
    "print(model.summary())\n",
    "\n",
    "\n",
    "history = model.fit(\n",
    "    np.array(X_soap_train), np.array(Yen_soap_train), verbose=1, epochs=20\n",
    ")"
   ]
  },
  {
   "cell_type": "code",
   "execution_count": 19,
   "id": "3bc86257",
   "metadata": {},
   "outputs": [
    {
     "name": "stdout",
     "output_type": "stream",
     "text": [
      "10/10 [==============================] - 2s 207ms/step - loss: 0.0987\n"
     ]
    },
    {
     "data": {
      "text/plain": [
       "(-5.0, 5.0)"
      ]
     },
     "execution_count": 19,
     "metadata": {},
     "output_type": "execute_result"
    },
    {
     "data": {
      "image/png": "[encoded data removed]",
      "text/plain": [
       "<Figure size 432x288 with 1 Axes>"
      ]
     },
     "metadata": {
      "needs_background": "light"
     },
     "output_type": "display_data"
    }
   ],
   "source": [
    "MYen_soap_predict = model.predict(X_soap_test)\n",
    "score = model.evaluate(X_soap_test, Yen_soap_test)\n",
    "\n",
    "plt.scatter(MYen_soap_predict, Yen_soap_test)\n",
    "plt.plot([-5, 5], [-5, 5])\n",
    "plt.xlabel(\"predicted energy formation\")\n",
    "plt.ylabel(\"real energy formation\")\n",
    "plt.title(f\"Non normalized SOAP ---> Loss:{np.floor(score)}\")\n",
    "plt.xlim([-5, 5])"
   ]
  },
  {
   "cell_type": "code",
   "execution_count": null,
   "id": "4fe2555e",
   "metadata": {},
   "outputs": [],
   "source": [
    "loss_norm = [\n",
    "    2.198615074157715,\n",
    "    1.0150638818740845,\n",
    "    0.7104524374008179,\n",
    "    0.5936242341995239,\n",
    "    0.4891059696674347,\n",
    "    0.41005977988243103,\n",
    "    0.3576939105987549,\n",
    "    0.30995723605155945,\n",
    "    0.2754875123500824,\n",
    "    0.25080251693725586,\n",
    "    0.24739758670330048,\n",
    "    0.2249820977449417,\n",
    "    0.22110822796821594,\n",
    "    0.20473136007785797,\n",
    "    0.19739846885204315,\n",
    "    0.1743188053369522,\n",
    "    0.17427492141723633,\n",
    "    0.1934872567653656,\n",
    "    0.1952170580625534,\n",
    "    0.17172761261463165,\n",
    "]"
   ]
  },
  {
   "cell_type": "code",
   "execution_count": null,
   "id": "b39fb2a0",
   "metadata": {},
   "outputs": [],
   "source": [
    "loss = [\n",
    "    2.3684821128845215,\n",
    "    0.7310749292373657,\n",
    "    0.46625131368637085,\n",
    "    0.36101841926574707,\n",
    "    0.31429263949394226,\n",
    "    0.27801084518432617,\n",
    "    0.2534628212451935,\n",
    "    0.24701716005802155,\n",
    "    0.22314731776714325,\n",
    "    0.21324485540390015,\n",
    "    0.20304705202579498,\n",
    "    0.2061484307050705,\n",
    "    0.1845499575138092,\n",
    "    0.18409954011440277,\n",
    "    0.18221454322338104,\n",
    "    0.2030934989452362,\n",
    "    0.17952388525009155,\n",
    "    0.1730874478816986,\n",
    "    0.18593521416187286,\n",
    "    0.16270475089550018,\n",
    "]"
   ]
  },
  {
   "cell_type": "code",
   "execution_count": 13,
   "id": "9ebd65a5",
   "metadata": {
    "scrolled": true
   },
   "outputs": [
    {
     "data": {
      "image/png": "[encoded data removed]",
      "text/plain": [
       "<Figure size 432x288 with 1 Axes>"
      ]
     },
     "metadata": {
      "needs_background": "light"
     },
     "output_type": "display_data"
    }
   ],
   "source": [
    "plt.plot(np.arange(20), loss_norm, \"-o\")\n",
    "plt.xlabel(\"epochs\")\n",
    "plt.ylabel(\"MAE Loss\")\n",
    "plt.title(\"Normalized SOAP\")\n",
    "plt.savefig(\"Loss_Carb_norm.png\")"
   ]
  },
  {
   "cell_type": "code",
   "execution_count": 12,
   "id": "cf5955cb",
   "metadata": {
    "scrolled": true
   },
   "outputs": [
    {
     "data": {
      "image/png": "[encoded data removed]",
      "text/plain": [
       "<Figure size 432x288 with 1 Axes>"
      ]
     },
     "metadata": {
      "needs_background": "light"
     },
     "output_type": "display_data"
    }
   ],
   "source": [
    "plt.plot(np.arange(20), loss, \"-o\")\n",
    "plt.xlabel(\"epochs\")\n",
    "plt.ylabel(\"MAE Loss\")\n",
    "plt.title(\"Non normalized SOAP\")\n",
    "plt.savefig(\"Loss_Carb.png\")"
   ]
  }
 ],
 "metadata": {
  "kernelspec": {
   "display_name": "Python 3 (ipykernel)",
   "language": "python",
   "name": "python3"
  },
  "language_info": {
   "codemirror_mode": {
    "name": "ipython",
    "version": 3
   },
   "file_extension": ".py",
   "mimetype": "text/x-python",
   "name": "python",
   "nbconvert_exporter": "python",
   "pygments_lexer": "ipython3",
   "version": "3.9.12"
  }
 },
 "nbformat": 4,
 "nbformat_minor": 5
}
